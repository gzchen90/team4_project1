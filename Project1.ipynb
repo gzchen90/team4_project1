{
 "cells": [
  {
   "cell_type": "code",
   "execution_count": 1,
   "metadata": {
    "collapsed": true
   },
   "outputs": [],
   "source": [
    "import os\n",
    "import json\n",
    "DATA_DIR_MOJO = os.path.join('raw_data', 'boxofficemojo')\n",
    "DATA_DIR_METACRITIC = os.path.join('raw_data', 'metacritic')\n",
    "DATA_DIR_OUR = os.path.join('raw_data', 'our_movies')"
   ]
  },
  {
   "cell_type": "code",
   "execution_count": 2,
   "metadata": {
    "collapsed": true
   },
   "outputs": [],
   "source": [
    "mojo = list()\n",
    "for target_file_name in os.listdir(DATA_DIR_MOJO):\n",
    "    target_file_path = os.path.join(DATA_DIR_MOJO, target_file_name)\n",
    "    with open(target_file_path, 'r') as target_file:\n",
    "        mojo.append( json.load(target_file) )\n"
   ]
  },
  {
   "cell_type": "code",
   "execution_count": 3,
   "metadata": {
    "collapsed": true
   },
   "outputs": [],
   "source": [
    "metacritic = list()\n",
    "for target_file_name in os.listdir(DATA_DIR_METACRITIC):\n",
    "    target_file_path = os.path.join(DATA_DIR_METACRITIC, target_file_name)\n",
    "    with open(target_file_path, 'r') as target_file:\n",
    "        metacritic.append( json.load(target_file) )\n"
   ]
  },
  {
   "cell_type": "code",
   "execution_count": null,
   "metadata": {
    "collapsed": true
   },
   "outputs": [],
   "source": [
    "our = list()\n",
    "for target_file_name in os.listdir(DATA_DIR_OUR):\n",
    "    target_file_path = os.path.join(DATA_DIR_OUR, target_file_name)\n",
    "    with open(target_file_path, 'r') as target_file:\n",
    "        our.append( json.load(target_file) )\n"
   ]
  },
  {
   "cell_type": "code",
   "execution_count": null,
   "metadata": {
    "collapsed": true
   },
   "outputs": [],
   "source": [
    "print metacritic[1]\n",
    "print mojo[1]"
   ]
  }
 ],
 "metadata": {
  "kernelspec": {
   "display_name": "Python 2",
   "language": "python",
   "name": "python2"
  },
  "language_info": {
   "codemirror_mode": {
    "name": "ipython",
    "version": 2
   },
   "file_extension": ".py",
   "mimetype": "text/x-python",
   "name": "python",
   "nbconvert_exporter": "python",
   "pygments_lexer": "ipython2",
   "version": "2.7.11"
  }
 },
 "nbformat": 4,
 "nbformat_minor": 0
}
