{
<<<<<<< HEAD
 "cells": [],
 "metadata": {},
=======
 "cells": [
  {
   "cell_type": "markdown",
   "metadata": {},
   "source": [
    "# Load All The Data"
   ]
  },
  {
   "cell_type": "code",
   "execution_count": 66,
   "metadata": {
    "collapsed": false
   },
   "outputs": [],
   "source": [
    "import pandas as pd\n",
    "import numpy as np\n",
    "import os\n",
    "import json\n",
    "import pprint\n",
    "from collections import Counter"
   ]
  },
  {
   "cell_type": "code",
   "execution_count": 41,
   "metadata": {
    "collapsed": false
   },
   "outputs": [],
   "source": [
    "CURRENT_DIR = (os.getcwd()).replace(\"/Notebooks\",\"\")\n",
    "DATA_DIR = os.path.abspath(os.path.join(CURRENT_DIR, 'raw_data'))\n",
    "MOJO_DIR = os.path.join(DATA_DIR, 'boxofficemojo')\n",
    "META_DIR = os.path.join(DATA_DIR, 'metacritic')\n",
    "OUR_DIR =  os.path.join(DATA_DIR, 'our_movies')\n",
    "\n",
    "def pull_from_folder(directory):\n",
    "    file_contents = os.listdir(directory)\n",
    "\n",
    "    movie_list = []\n",
    "\n",
    "    for filename in file_contents:\n",
    "        if 'json' in filename[-4:]:\n",
    "            filepath = os.path.join(directory, filename)\n",
    "\n",
    "            with open(filepath, 'r') as movie_file:\n",
    "                movie_data = json.load(movie_file)\n",
    "\n",
    "            movie_list.append(movie_data)\n",
    "\n",
    "    print \"Parsed %i movies from %i files\" % (len(movie_list),\n",
    "                                              len(file_contents))\n",
    "    return movie_list\n"
   ]
  },
  {
   "cell_type": "markdown",
   "metadata": {},
   "source": [
    "## Data Set 1"
   ]
  },
  {
   "cell_type": "code",
   "execution_count": 67,
   "metadata": {
    "collapsed": false,
    "scrolled": true
   },
   "outputs": [
    {
     "name": "stdout",
     "output_type": "stream",
     "text": [
      "Parsed 3728 movies from 3728 files\n"
     ]
    },
    {
     "data": {
      "text/html": [
       "<div>\n",
       "<table border=\"1\" class=\"dataframe\">\n",
       "  <thead>\n",
       "    <tr style=\"text-align: right;\">\n",
       "      <th></th>\n",
       "      <th>alt_title</th>\n",
       "      <th>director</th>\n",
       "      <th>domestic_gross</th>\n",
       "      <th>mojo_slug</th>\n",
       "      <th>opening_per_theater</th>\n",
       "      <th>opening_weekend_take</th>\n",
       "      <th>production_budget</th>\n",
       "      <th>release_date_limited</th>\n",
       "      <th>release_date_wide</th>\n",
       "      <th>title</th>\n",
       "      <th>widest_release</th>\n",
       "      <th>worldwide_gross</th>\n",
       "      <th>year</th>\n",
       "    </tr>\n",
       "  </thead>\n",
       "  <tbody>\n",
       "    <tr>\n",
       "      <th>0</th>\n",
       "      <td>10,000 B.C. (2008)</td>\n",
       "      <td>Roland Emmerich</td>\n",
       "      <td>94784201</td>\n",
       "      <td>10000bc</td>\n",
       "      <td>10518</td>\n",
       "      <td>35867488</td>\n",
       "      <td>105000000</td>\n",
       "      <td>None</td>\n",
       "      <td>2008-03-07</td>\n",
       "      <td>10,000 B.C.</td>\n",
       "      <td>3454</td>\n",
       "      <td>269784201</td>\n",
       "      <td>2008</td>\n",
       "    </tr>\n",
       "    <tr>\n",
       "      <th>1</th>\n",
       "      <td>102 Dalmatians (2000)</td>\n",
       "      <td>None</td>\n",
       "      <td>66957026</td>\n",
       "      <td>102dalmatians</td>\n",
       "      <td>7353</td>\n",
       "      <td>19883351</td>\n",
       "      <td>85000000</td>\n",
       "      <td>None</td>\n",
       "      <td>2000-11-22</td>\n",
       "      <td>102 Dalmatians</td>\n",
       "      <td>2704</td>\n",
       "      <td>183611771</td>\n",
       "      <td>2000</td>\n",
       "    </tr>\n",
       "    <tr>\n",
       "      <th>2</th>\n",
       "      <td>10 Things I Hate About You (1999)</td>\n",
       "      <td>None</td>\n",
       "      <td>38178166</td>\n",
       "      <td>10thingsihateaboutyou</td>\n",
       "      <td>3668</td>\n",
       "      <td>8330681</td>\n",
       "      <td>30000000</td>\n",
       "      <td>None</td>\n",
       "      <td>1999-03-31</td>\n",
       "      <td>10 Things I Hate About You</td>\n",
       "      <td>2311</td>\n",
       "      <td>53478166</td>\n",
       "      <td>1999</td>\n",
       "    </tr>\n",
       "    <tr>\n",
       "      <th>3</th>\n",
       "      <td>10 Years (2012)</td>\n",
       "      <td>Jamie Linden</td>\n",
       "      <td>203373</td>\n",
       "      <td>10years</td>\n",
       "      <td>7569</td>\n",
       "      <td>22707</td>\n",
       "      <td>NaN</td>\n",
       "      <td>None</td>\n",
       "      <td>2012-09-14</td>\n",
       "      <td>10 Years</td>\n",
       "      <td>63</td>\n",
       "      <td>203373</td>\n",
       "      <td>2012</td>\n",
       "    </tr>\n",
       "    <tr>\n",
       "      <th>4</th>\n",
       "      <td>11 Flowers (2013)</td>\n",
       "      <td>None</td>\n",
       "      <td>9213</td>\n",
       "      <td>11flowers</td>\n",
       "      <td>1758</td>\n",
       "      <td>3516</td>\n",
       "      <td>NaN</td>\n",
       "      <td>None</td>\n",
       "      <td>2013-02-22</td>\n",
       "      <td>11 Flowers</td>\n",
       "      <td>2</td>\n",
       "      <td>NaN</td>\n",
       "      <td>2013</td>\n",
       "    </tr>\n",
       "  </tbody>\n",
       "</table>\n",
       "</div>"
      ],
      "text/plain": [
       "                           alt_title         director  domestic_gross  \\\n",
       "0                 10,000 B.C. (2008)  Roland Emmerich        94784201   \n",
       "1              102 Dalmatians (2000)             None        66957026   \n",
       "2  10 Things I Hate About You (1999)             None        38178166   \n",
       "3                    10 Years (2012)     Jamie Linden          203373   \n",
       "4                  11 Flowers (2013)             None            9213   \n",
       "\n",
       "               mojo_slug  opening_per_theater  opening_weekend_take  \\\n",
       "0                10000bc                10518              35867488   \n",
       "1          102dalmatians                 7353              19883351   \n",
       "2  10thingsihateaboutyou                 3668               8330681   \n",
       "3                10years                 7569                 22707   \n",
       "4              11flowers                 1758                  3516   \n",
       "\n",
       "   production_budget release_date_limited release_date_wide  \\\n",
       "0          105000000                 None        2008-03-07   \n",
       "1           85000000                 None        2000-11-22   \n",
       "2           30000000                 None        1999-03-31   \n",
       "3                NaN                 None        2012-09-14   \n",
       "4                NaN                 None        2013-02-22   \n",
       "\n",
       "                        title  widest_release  worldwide_gross  year  \n",
       "0                 10,000 B.C.            3454        269784201  2008  \n",
       "1             102 Dalmatians             2704        183611771  2000  \n",
       "2  10 Things I Hate About You            2311         53478166  1999  \n",
       "3                    10 Years              63           203373  2012  \n",
       "4                 11 Flowers                2              NaN  2013  "
      ]
     },
     "execution_count": 67,
     "metadata": {},
     "output_type": "execute_result"
    }
   ],
   "source": [
    "mojo_movies = pull_from_folder(MOJO_DIR)\n",
    "mojo_df =  pd.DataFrame(mojo_movies)\n",
    "mojo_df.describe()\n",
    "mojo_df.head()"
   ]
  },
  {
   "cell_type": "markdown",
   "metadata": {},
   "source": [
    "## Data Set 2"
   ]
  },
  {
   "cell_type": "code",
   "execution_count": 84,
   "metadata": {
    "collapsed": false
   },
   "outputs": [
    {
     "name": "stdout",
     "output_type": "stream",
     "text": [
      "Parsed 4767 movies from 4767 files\n",
      "Counter({<type 'dict'>: 4765, <type 'list'>: 2})\n",
      "[]\n",
      "[u'/movie/11-flowers']\n"
     ]
    }
   ],
   "source": [
    "meta_movies = pull_from_folder(META_DIR)\n",
    "types = [type(movie) for movie in meta_movies]\n",
    "print Counter(types)\n",
    "meta_movies_copy = meta_movies[:]\n",
    "for item in meta_movies:\n",
    "    typer= str(type(item)).replace(\"<type '\",\"\").replace(\"'>\",\"\")\n",
    "    if 'list' in typer:\n",
    "        meta_movies_copy.remove(item)\n",
    "    "
   ]
  },
  {
   "cell_type": "markdown",
   "metadata": {},
   "source": [
    "## Data Set 3"
   ]
  },
  {
   "cell_type": "code",
   "execution_count": 68,
   "metadata": {
    "collapsed": false
   },
   "outputs": [
    {
     "name": "stdout",
     "output_type": "stream",
     "text": [
      "Parsed 3723 movies from 3724 files\n"
     ]
    },
    {
     "data": {
      "text/html": [
       "<div>\n",
       "<table border=\"1\" class=\"dataframe\">\n",
       "  <thead>\n",
       "    <tr style=\"text-align: right;\">\n",
       "      <th></th>\n",
       "      <th>Actors</th>\n",
       "      <th>Awards</th>\n",
       "      <th>BoxOffice</th>\n",
       "      <th>Country</th>\n",
       "      <th>DVD</th>\n",
       "      <th>Director</th>\n",
       "      <th>Error</th>\n",
       "      <th>Genre</th>\n",
       "      <th>Language</th>\n",
       "      <th>Metascore</th>\n",
       "      <th>...</th>\n",
       "      <th>tomatoFresh</th>\n",
       "      <th>tomatoImage</th>\n",
       "      <th>tomatoMeter</th>\n",
       "      <th>tomatoRating</th>\n",
       "      <th>tomatoReviews</th>\n",
       "      <th>tomatoRotten</th>\n",
       "      <th>tomatoURL</th>\n",
       "      <th>tomatoUserMeter</th>\n",
       "      <th>tomatoUserRating</th>\n",
       "      <th>tomatoUserReviews</th>\n",
       "    </tr>\n",
       "  </thead>\n",
       "  <tbody>\n",
       "    <tr>\n",
       "      <th>0</th>\n",
       "      <td>Jack O'Connell, Jack Lowden, Paul Popplewell, ...</td>\n",
       "      <td>Nominated for 1 BAFTA Film Award. Another 11 w...</td>\n",
       "      <td>N/A</td>\n",
       "      <td>UK</td>\n",
       "      <td>07 Jul 2015</td>\n",
       "      <td>Yann Demange</td>\n",
       "      <td>NaN</td>\n",
       "      <td>Action, Drama, Thriller</td>\n",
       "      <td>English</td>\n",
       "      <td>83</td>\n",
       "      <td>...</td>\n",
       "      <td>119</td>\n",
       "      <td>certified</td>\n",
       "      <td>96</td>\n",
       "      <td>7.7</td>\n",
       "      <td>124</td>\n",
       "      <td>5</td>\n",
       "      <td>http://www.rottentomatoes.com/m/71_2015/</td>\n",
       "      <td>81</td>\n",
       "      <td>3.9</td>\n",
       "      <td>16365</td>\n",
       "    </tr>\n",
       "    <tr>\n",
       "      <th>1</th>\n",
       "      <td>Joseph Gordon-Levitt, Zooey Deschanel, Geoffre...</td>\n",
       "      <td>Nominated for 2 Golden Globes. Another 18 wins...</td>\n",
       "      <td>$32.1M</td>\n",
       "      <td>USA</td>\n",
       "      <td>22 Dec 2009</td>\n",
       "      <td>Marc Webb</td>\n",
       "      <td>NaN</td>\n",
       "      <td>Comedy, Drama, Romance</td>\n",
       "      <td>English, French, Swedish</td>\n",
       "      <td>76</td>\n",
       "      <td>...</td>\n",
       "      <td>183</td>\n",
       "      <td>certified</td>\n",
       "      <td>86</td>\n",
       "      <td>7.6</td>\n",
       "      <td>214</td>\n",
       "      <td>31</td>\n",
       "      <td>http://www.rottentomatoes.com/m/500_days_of_su...</td>\n",
       "      <td>84</td>\n",
       "      <td>3.8</td>\n",
       "      <td>395062</td>\n",
       "    </tr>\n",
       "    <tr>\n",
       "      <th>2</th>\n",
       "      <td>NaN</td>\n",
       "      <td>NaN</td>\n",
       "      <td>NaN</td>\n",
       "      <td>NaN</td>\n",
       "      <td>NaN</td>\n",
       "      <td>NaN</td>\n",
       "      <td>Must provide more than one character.</td>\n",
       "      <td>NaN</td>\n",
       "      <td>NaN</td>\n",
       "      <td>NaN</td>\n",
       "      <td>...</td>\n",
       "      <td>NaN</td>\n",
       "      <td>NaN</td>\n",
       "      <td>NaN</td>\n",
       "      <td>NaN</td>\n",
       "      <td>NaN</td>\n",
       "      <td>NaN</td>\n",
       "      <td>NaN</td>\n",
       "      <td>NaN</td>\n",
       "      <td>NaN</td>\n",
       "      <td>NaN</td>\n",
       "    </tr>\n",
       "    <tr>\n",
       "      <th>3</th>\n",
       "      <td>Heath Ledger, Julia Stiles, Joseph Gordon-Levi...</td>\n",
       "      <td>2 wins &amp; 12 nominations.</td>\n",
       "      <td>N/A</td>\n",
       "      <td>USA</td>\n",
       "      <td>12 Oct 1999</td>\n",
       "      <td>Gil Junger</td>\n",
       "      <td>NaN</td>\n",
       "      <td>Comedy, Drama, Romance</td>\n",
       "      <td>English, French</td>\n",
       "      <td>70</td>\n",
       "      <td>...</td>\n",
       "      <td>38</td>\n",
       "      <td>fresh</td>\n",
       "      <td>61</td>\n",
       "      <td>6.1</td>\n",
       "      <td>62</td>\n",
       "      <td>24</td>\n",
       "      <td>http://www.rottentomatoes.com/m/10_things_i_ha...</td>\n",
       "      <td>69</td>\n",
       "      <td>3.3</td>\n",
       "      <td>32103660</td>\n",
       "    </tr>\n",
       "    <tr>\n",
       "      <th>4</th>\n",
       "      <td>Channing Tatum, Jenna Dewan Tatum, Justin Long...</td>\n",
       "      <td>N/A</td>\n",
       "      <td>$0.2M</td>\n",
       "      <td>USA</td>\n",
       "      <td>18 Dec 2012</td>\n",
       "      <td>Jamie Linden</td>\n",
       "      <td>NaN</td>\n",
       "      <td>Comedy, Drama, Romance</td>\n",
       "      <td>English</td>\n",
       "      <td>61</td>\n",
       "      <td>...</td>\n",
       "      <td>33</td>\n",
       "      <td>fresh</td>\n",
       "      <td>60</td>\n",
       "      <td>5.9</td>\n",
       "      <td>55</td>\n",
       "      <td>22</td>\n",
       "      <td>http://www.rottentomatoes.com/m/10_years/</td>\n",
       "      <td>40</td>\n",
       "      <td>3.0</td>\n",
       "      <td>11607</td>\n",
       "    </tr>\n",
       "  </tbody>\n",
       "</table>\n",
       "<p>5 rows × 36 columns</p>\n",
       "</div>"
      ],
      "text/plain": [
       "                                              Actors  \\\n",
       "0  Jack O'Connell, Jack Lowden, Paul Popplewell, ...   \n",
       "1  Joseph Gordon-Levitt, Zooey Deschanel, Geoffre...   \n",
       "2                                                NaN   \n",
       "3  Heath Ledger, Julia Stiles, Joseph Gordon-Levi...   \n",
       "4  Channing Tatum, Jenna Dewan Tatum, Justin Long...   \n",
       "\n",
       "                                              Awards BoxOffice Country  \\\n",
       "0  Nominated for 1 BAFTA Film Award. Another 11 w...       N/A      UK   \n",
       "1  Nominated for 2 Golden Globes. Another 18 wins...    $32.1M     USA   \n",
       "2                                                NaN       NaN     NaN   \n",
       "3                           2 wins & 12 nominations.       N/A     USA   \n",
       "4                                                N/A     $0.2M     USA   \n",
       "\n",
       "           DVD      Director                                  Error  \\\n",
       "0  07 Jul 2015  Yann Demange                                    NaN   \n",
       "1  22 Dec 2009     Marc Webb                                    NaN   \n",
       "2          NaN           NaN  Must provide more than one character.   \n",
       "3  12 Oct 1999    Gil Junger                                    NaN   \n",
       "4  18 Dec 2012  Jamie Linden                                    NaN   \n",
       "\n",
       "                     Genre                  Language Metascore  \\\n",
       "0  Action, Drama, Thriller                   English        83   \n",
       "1   Comedy, Drama, Romance  English, French, Swedish        76   \n",
       "2                      NaN                       NaN       NaN   \n",
       "3   Comedy, Drama, Romance           English, French        70   \n",
       "4   Comedy, Drama, Romance                   English        61   \n",
       "\n",
       "         ...        tomatoFresh tomatoImage tomatoMeter tomatoRating  \\\n",
       "0        ...                119   certified          96          7.7   \n",
       "1        ...                183   certified          86          7.6   \n",
       "2        ...                NaN         NaN         NaN          NaN   \n",
       "3        ...                 38       fresh          61          6.1   \n",
       "4        ...                 33       fresh          60          5.9   \n",
       "\n",
       "  tomatoReviews tomatoRotten  \\\n",
       "0           124            5   \n",
       "1           214           31   \n",
       "2           NaN          NaN   \n",
       "3            62           24   \n",
       "4            55           22   \n",
       "\n",
       "                                           tomatoURL tomatoUserMeter  \\\n",
       "0           http://www.rottentomatoes.com/m/71_2015/              81   \n",
       "1  http://www.rottentomatoes.com/m/500_days_of_su...              84   \n",
       "2                                                NaN             NaN   \n",
       "3  http://www.rottentomatoes.com/m/10_things_i_ha...              69   \n",
       "4          http://www.rottentomatoes.com/m/10_years/              40   \n",
       "\n",
       "  tomatoUserRating tomatoUserReviews  \n",
       "0              3.9             16365  \n",
       "1              3.8            395062  \n",
       "2              NaN               NaN  \n",
       "3              3.3          32103660  \n",
       "4              3.0             11607  \n",
       "\n",
       "[5 rows x 36 columns]"
      ]
     },
     "execution_count": 68,
     "metadata": {},
     "output_type": "execute_result"
    }
   ],
   "source": [
    "our_movies = pull_from_folder(OUR_DIR)\n",
    "our_df = pd.DataFrame(our_movies)\n",
    "our_df.describe()\n",
    "our_df.head()"
   ]
  },
  {
   "cell_type": "code",
   "execution_count": 35,
   "metadata": {
    "collapsed": true
   },
   "outputs": [],
   "source": []
  },
  {
   "cell_type": "code",
   "execution_count": 39,
   "metadata": {
    "collapsed": false
   },
   "outputs": [
    {
     "data": {
      "text/plain": [
       "'json'"
      ]
     },
     "execution_count": 39,
     "metadata": {},
     "output_type": "execute_result"
    }
   ],
   "source": []
  },
  {
   "cell_type": "code",
   "execution_count": null,
   "metadata": {
    "collapsed": true
   },
   "outputs": [],
   "source": []
  }
 ],
 "metadata": {
  "kernelspec": {
   "display_name": "Python 2",
   "language": "python",
   "name": "python2"
  },
  "language_info": {
   "codemirror_mode": {
    "name": "ipython",
    "version": 2
   },
   "file_extension": ".py",
   "mimetype": "text/x-python",
   "name": "python",
   "nbconvert_exporter": "python",
   "pygments_lexer": "ipython2",
   "version": "2.7.11"
  }
 },
>>>>>>> upstream/master
 "nbformat": 4,
 "nbformat_minor": 0
}
