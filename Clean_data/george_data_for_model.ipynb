{
 "cells": [
  {
   "cell_type": "code",
   "execution_count": 41,
   "metadata": {
    "collapsed": false
   },
   "outputs": [],
   "source": [
    "def list_json_dict(data_dir):\n",
    "    return_list = list()\n",
    "    for target_file_name in os.listdir(data_dir):\n",
    "        if target_file_name[-5:] == '.json':\n",
    "            target_file_path = os.path.join(data_dir, target_file_name)\n",
    "            with open(target_file_path, 'r') as target_file:\n",
    "                json_file = json.load(target_file)\n",
    "                if(type(json_file)==dict):\n",
    "                    return_list.append( json_file )\n",
    "                else:\n",
    "                    print target_file_path + \" is not a json dictionary\"\n",
    "    return return_list\n"
   ]
  },
  {
   "cell_type": "code",
   "execution_count": 195,
   "metadata": {
    "collapsed": false
   },
   "outputs": [],
   "source": [
    "import os\n",
    "import json\n",
    "import pandas as pd\n",
    "import re\n",
    "import numpy as np"
   ]
  },
  {
   "cell_type": "code",
   "execution_count": 34,
   "metadata": {
    "collapsed": true
   },
   "outputs": [],
   "source": [
    "DATA_DIR_MOJO = os.path.join('raw_data', 'boxofficemojo')\n",
    "DATA_DIR_METACRITIC = os.path.join('raw_data', 'metacritic')\n",
    "DATA_DIR_OUR = os.path.join('raw_data', 'our_movies')\n",
    "mojo = list_json_dict(DATA_DIR_MOJO)\n",
    "metacritic = list_json_dict(DATA_DIR_METACRITIC)\n",
    "our = list_json_dict(DATA_DIR_OUR)"
   ]
  },
  {
   "cell_type": "code",
   "execution_count": 225,
   "metadata": {
    "collapsed": false
   },
   "outputs": [],
   "source": [
    "df_mojo = pd.DataFrame(mojo)\n",
    "df_metacritic = pd.DataFrame(metacritic)\n",
    "df_our = pd.DataFrame(our)"
   ]
  },
  {
   "cell_type": "code",
   "execution_count": 245,
   "metadata": {
    "collapsed": false
   },
   "outputs": [
    {
     "data": {
      "text/html": [
       "<div>\n",
       "<table border=\"1\" class=\"dataframe\">\n",
       "  <thead>\n",
       "    <tr style=\"text-align: right;\">\n",
       "      <th></th>\n",
       "      <th>alt_title</th>\n",
       "      <th>director</th>\n",
       "      <th>domestic_gross</th>\n",
       "      <th>mojo_slug</th>\n",
       "      <th>opening_per_theater</th>\n",
       "      <th>opening_weekend_take</th>\n",
       "      <th>production_budget</th>\n",
       "      <th>release_date_limited</th>\n",
       "      <th>release_date_wide</th>\n",
       "      <th>title</th>\n",
       "      <th>widest_release</th>\n",
       "      <th>worldwide_gross</th>\n",
       "      <th>year</th>\n",
       "      <th>title_clean</th>\n",
       "      <th>director_clean</th>\n",
       "    </tr>\n",
       "  </thead>\n",
       "  <tbody>\n",
       "  </tbody>\n",
       "</table>\n",
       "</div>"
      ],
      "text/plain": [
       "Empty DataFrame\n",
       "Columns: [alt_title, director, domestic_gross, mojo_slug, opening_per_theater, opening_weekend_take, production_budget, release_date_limited, release_date_wide, title, widest_release, worldwide_gross, year, title_clean, director_clean]\n",
       "Index: []"
      ]
     },
     "execution_count": 245,
     "metadata": {},
     "output_type": "execute_result"
    }
   ],
   "source": [
    "mojo_title_clean=[]\n",
    "for title, alt_title in zip( df_mojo.loc[:,'title'], df_mojo.loc[:,'alt_title'] ):\n",
    "    if title:\n",
    "        try:\n",
    "            mojo_title_clean.append( re.sub('[^A-Za-z0-9]+', '', title).lower() )\n",
    "        except:\n",
    "            mojo_title_clean.append(np.nan)\n",
    "    else:\n",
    "        try:\n",
    "            mojo_title_clean.append( re.sub('[^A-Za-z0-9]+', '', alt_title).lower() )\n",
    "        except:\n",
    "            mojo_title_clean.append(np.nan)\n",
    "mojo_director_clean=[]\n",
    "for director in df_mojo.loc[:,'director']:\n",
    "    try:\n",
    "        mojo_director_clean.append( re.sub('[^A-Za-z0-9]+', '', director).lower() )\n",
    "    except:\n",
    "        mojo_director_clean.append(np.nan)\n",
    "df_mojo['title_clean'] = mojo_title_clean\n",
    "df_mojo['director_clean'] = mojo_director_clean\n",
    "df_mojo[df_mojo.title_clean.isnull()].head()"
   ]
  },
  {
   "cell_type": "code",
   "execution_count": 246,
   "metadata": {
    "collapsed": false
   },
   "outputs": [
    {
     "data": {
      "text/html": [
       "<div>\n",
       "<table border=\"1\" class=\"dataframe\">\n",
       "  <thead>\n",
       "    <tr style=\"text-align: right;\">\n",
       "      <th></th>\n",
       "      <th>complete</th>\n",
       "      <th>director</th>\n",
       "      <th>genre</th>\n",
       "      <th>metacritic_page</th>\n",
       "      <th>metascore</th>\n",
       "      <th>num_critic_reviews</th>\n",
       "      <th>num_user_ratings</th>\n",
       "      <th>num_user_reviews</th>\n",
       "      <th>rating</th>\n",
       "      <th>release_date</th>\n",
       "      <th>runtime_minutes</th>\n",
       "      <th>studio</th>\n",
       "      <th>title</th>\n",
       "      <th>unable to retrieve</th>\n",
       "      <th>user_score</th>\n",
       "      <th>year</th>\n",
       "      <th>title_clean</th>\n",
       "      <th>director_clean</th>\n",
       "    </tr>\n",
       "  </thead>\n",
       "  <tbody>\n",
       "    <tr>\n",
       "      <th>1251</th>\n",
       "      <td>NaN</td>\n",
       "      <td>NaN</td>\n",
       "      <td>NaN</td>\n",
       "      <td>NaN</td>\n",
       "      <td>NaN</td>\n",
       "      <td>NaN</td>\n",
       "      <td>NaN</td>\n",
       "      <td>NaN</td>\n",
       "      <td>NaN</td>\n",
       "      <td>NaN</td>\n",
       "      <td>NaN</td>\n",
       "      <td>NaN</td>\n",
       "      <td>NaN</td>\n",
       "      <td>[]</td>\n",
       "      <td>NaN</td>\n",
       "      <td>NaN</td>\n",
       "      <td>NaN</td>\n",
       "      <td>NaN</td>\n",
       "    </tr>\n",
       "    <tr>\n",
       "      <th>4764</th>\n",
       "      <td>NaN</td>\n",
       "      <td>NaN</td>\n",
       "      <td>NaN</td>\n",
       "      <td>NaN</td>\n",
       "      <td>NaN</td>\n",
       "      <td>NaN</td>\n",
       "      <td>NaN</td>\n",
       "      <td>NaN</td>\n",
       "      <td>NaN</td>\n",
       "      <td>NaN</td>\n",
       "      <td>NaN</td>\n",
       "      <td>NaN</td>\n",
       "      <td>NaN</td>\n",
       "      <td>[/movie/once-upon-a-time-in-mexico, /movie/ser...</td>\n",
       "      <td>NaN</td>\n",
       "      <td>NaN</td>\n",
       "      <td>NaN</td>\n",
       "      <td>NaN</td>\n",
       "    </tr>\n",
       "  </tbody>\n",
       "</table>\n",
       "</div>"
      ],
      "text/plain": [
       "     complete director genre metacritic_page  metascore num_critic_reviews  \\\n",
       "1251      NaN      NaN   NaN             NaN        NaN                NaN   \n",
       "4764      NaN      NaN   NaN             NaN        NaN                NaN   \n",
       "\n",
       "      num_user_ratings num_user_reviews rating release_date  runtime_minutes  \\\n",
       "1251               NaN              NaN    NaN          NaN              NaN   \n",
       "4764               NaN              NaN    NaN          NaN              NaN   \n",
       "\n",
       "     studio title                                 unable to retrieve  \\\n",
       "1251    NaN   NaN                                                 []   \n",
       "4764    NaN   NaN  [/movie/once-upon-a-time-in-mexico, /movie/ser...   \n",
       "\n",
       "     user_score year title_clean director_clean  \n",
       "1251        NaN  NaN         NaN            NaN  \n",
       "4764        NaN  NaN         NaN            NaN  "
      ]
     },
     "execution_count": 246,
     "metadata": {},
     "output_type": "execute_result"
    }
   ],
   "source": [
    "metacritic_title_clean=[]\n",
    "for title in df_metacritic.loc[:,'title']:\n",
    "    try:\n",
    "        metacritic_title_clean.append( re.sub('[^A-Za-z0-9]+', '', title).lower() )\n",
    "    except:\n",
    "        metacritic_title_clean.append(np.nan)\n",
    "        \n",
    "metacritic_director_clean=[]\n",
    "for director in df_metacritic.loc[:,'director']:\n",
    "    try:\n",
    "        metacritic_director_clean.append( re.sub('[^A-Za-z0-9]+', '', director).lower() )\n",
    "    except:\n",
    "        metacritic_director_clean.append(np.nan)\n",
    "        \n",
    "df_metacritic['title_clean'] = metacritic_title_clean\n",
    "df_metacritic['director_clean'] = metacritic_director_clean\n",
    "df_metacritic[df_metacritic.title_clean.isnull()].head()"
   ]
  },
  {
   "cell_type": "code",
   "execution_count": 247,
   "metadata": {
    "collapsed": false
   },
   "outputs": [
    {
     "data": {
      "text/html": [
       "<div>\n",
       "<table border=\"1\" class=\"dataframe\">\n",
       "  <thead>\n",
       "    <tr style=\"text-align: right;\">\n",
       "      <th></th>\n",
       "      <th>Actors</th>\n",
       "      <th>Awards</th>\n",
       "      <th>BoxOffice</th>\n",
       "      <th>Country</th>\n",
       "      <th>DVD</th>\n",
       "      <th>Director</th>\n",
       "      <th>Error</th>\n",
       "      <th>Genre</th>\n",
       "      <th>Language</th>\n",
       "      <th>Metascore</th>\n",
       "      <th>...</th>\n",
       "      <th>tomatoImage</th>\n",
       "      <th>tomatoMeter</th>\n",
       "      <th>tomatoRating</th>\n",
       "      <th>tomatoReviews</th>\n",
       "      <th>tomatoRotten</th>\n",
       "      <th>tomatoURL</th>\n",
       "      <th>tomatoUserMeter</th>\n",
       "      <th>tomatoUserRating</th>\n",
       "      <th>tomatoUserReviews</th>\n",
       "      <th>title_clean</th>\n",
       "    </tr>\n",
       "  </thead>\n",
       "  <tbody>\n",
       "    <tr>\n",
       "      <th>2</th>\n",
       "      <td>NaN</td>\n",
       "      <td>NaN</td>\n",
       "      <td>NaN</td>\n",
       "      <td>NaN</td>\n",
       "      <td>NaN</td>\n",
       "      <td>NaN</td>\n",
       "      <td>Must provide more than one character.</td>\n",
       "      <td>NaN</td>\n",
       "      <td>NaN</td>\n",
       "      <td>NaN</td>\n",
       "      <td>...</td>\n",
       "      <td>NaN</td>\n",
       "      <td>NaN</td>\n",
       "      <td>NaN</td>\n",
       "      <td>NaN</td>\n",
       "      <td>NaN</td>\n",
       "      <td>NaN</td>\n",
       "      <td>NaN</td>\n",
       "      <td>NaN</td>\n",
       "      <td>NaN</td>\n",
       "      <td>NaN</td>\n",
       "    </tr>\n",
       "    <tr>\n",
       "      <th>22</th>\n",
       "      <td>NaN</td>\n",
       "      <td>NaN</td>\n",
       "      <td>NaN</td>\n",
       "      <td>NaN</td>\n",
       "      <td>NaN</td>\n",
       "      <td>NaN</td>\n",
       "      <td>Movie not found!</td>\n",
       "      <td>NaN</td>\n",
       "      <td>NaN</td>\n",
       "      <td>NaN</td>\n",
       "      <td>...</td>\n",
       "      <td>NaN</td>\n",
       "      <td>NaN</td>\n",
       "      <td>NaN</td>\n",
       "      <td>NaN</td>\n",
       "      <td>NaN</td>\n",
       "      <td>NaN</td>\n",
       "      <td>NaN</td>\n",
       "      <td>NaN</td>\n",
       "      <td>NaN</td>\n",
       "      <td>NaN</td>\n",
       "    </tr>\n",
       "    <tr>\n",
       "      <th>27</th>\n",
       "      <td>NaN</td>\n",
       "      <td>NaN</td>\n",
       "      <td>NaN</td>\n",
       "      <td>NaN</td>\n",
       "      <td>NaN</td>\n",
       "      <td>NaN</td>\n",
       "      <td>Movie not found!</td>\n",
       "      <td>NaN</td>\n",
       "      <td>NaN</td>\n",
       "      <td>NaN</td>\n",
       "      <td>...</td>\n",
       "      <td>NaN</td>\n",
       "      <td>NaN</td>\n",
       "      <td>NaN</td>\n",
       "      <td>NaN</td>\n",
       "      <td>NaN</td>\n",
       "      <td>NaN</td>\n",
       "      <td>NaN</td>\n",
       "      <td>NaN</td>\n",
       "      <td>NaN</td>\n",
       "      <td>NaN</td>\n",
       "    </tr>\n",
       "    <tr>\n",
       "      <th>36</th>\n",
       "      <td>NaN</td>\n",
       "      <td>NaN</td>\n",
       "      <td>NaN</td>\n",
       "      <td>NaN</td>\n",
       "      <td>NaN</td>\n",
       "      <td>NaN</td>\n",
       "      <td>Movie not found!</td>\n",
       "      <td>NaN</td>\n",
       "      <td>NaN</td>\n",
       "      <td>NaN</td>\n",
       "      <td>...</td>\n",
       "      <td>NaN</td>\n",
       "      <td>NaN</td>\n",
       "      <td>NaN</td>\n",
       "      <td>NaN</td>\n",
       "      <td>NaN</td>\n",
       "      <td>NaN</td>\n",
       "      <td>NaN</td>\n",
       "      <td>NaN</td>\n",
       "      <td>NaN</td>\n",
       "      <td>NaN</td>\n",
       "    </tr>\n",
       "    <tr>\n",
       "      <th>46</th>\n",
       "      <td>NaN</td>\n",
       "      <td>NaN</td>\n",
       "      <td>NaN</td>\n",
       "      <td>NaN</td>\n",
       "      <td>NaN</td>\n",
       "      <td>NaN</td>\n",
       "      <td>Movie not found!</td>\n",
       "      <td>NaN</td>\n",
       "      <td>NaN</td>\n",
       "      <td>NaN</td>\n",
       "      <td>...</td>\n",
       "      <td>NaN</td>\n",
       "      <td>NaN</td>\n",
       "      <td>NaN</td>\n",
       "      <td>NaN</td>\n",
       "      <td>NaN</td>\n",
       "      <td>NaN</td>\n",
       "      <td>NaN</td>\n",
       "      <td>NaN</td>\n",
       "      <td>NaN</td>\n",
       "      <td>NaN</td>\n",
       "    </tr>\n",
       "  </tbody>\n",
       "</table>\n",
       "<p>5 rows × 37 columns</p>\n",
       "</div>"
      ],
      "text/plain": [
       "   Actors Awards BoxOffice Country  DVD Director  \\\n",
       "2     NaN    NaN       NaN     NaN  NaN      NaN   \n",
       "22    NaN    NaN       NaN     NaN  NaN      NaN   \n",
       "27    NaN    NaN       NaN     NaN  NaN      NaN   \n",
       "36    NaN    NaN       NaN     NaN  NaN      NaN   \n",
       "46    NaN    NaN       NaN     NaN  NaN      NaN   \n",
       "\n",
       "                                    Error Genre Language Metascore  \\\n",
       "2   Must provide more than one character.   NaN      NaN       NaN   \n",
       "22                       Movie not found!   NaN      NaN       NaN   \n",
       "27                       Movie not found!   NaN      NaN       NaN   \n",
       "36                       Movie not found!   NaN      NaN       NaN   \n",
       "46                       Movie not found!   NaN      NaN       NaN   \n",
       "\n",
       "       ...     tomatoImage tomatoMeter tomatoRating tomatoReviews  \\\n",
       "2      ...             NaN         NaN          NaN           NaN   \n",
       "22     ...             NaN         NaN          NaN           NaN   \n",
       "27     ...             NaN         NaN          NaN           NaN   \n",
       "36     ...             NaN         NaN          NaN           NaN   \n",
       "46     ...             NaN         NaN          NaN           NaN   \n",
       "\n",
       "   tomatoRotten tomatoURL tomatoUserMeter tomatoUserRating tomatoUserReviews  \\\n",
       "2           NaN       NaN             NaN              NaN               NaN   \n",
       "22          NaN       NaN             NaN              NaN               NaN   \n",
       "27          NaN       NaN             NaN              NaN               NaN   \n",
       "36          NaN       NaN             NaN              NaN               NaN   \n",
       "46          NaN       NaN             NaN              NaN               NaN   \n",
       "\n",
       "   title_clean  \n",
       "2          NaN  \n",
       "22         NaN  \n",
       "27         NaN  \n",
       "36         NaN  \n",
       "46         NaN  \n",
       "\n",
       "[5 rows x 37 columns]"
      ]
     },
     "execution_count": 247,
     "metadata": {},
     "output_type": "execute_result"
    }
   ],
   "source": [
    "our_title_clean=[]\n",
    "for title in df_our.loc[:,'Title']:\n",
    "    try:\n",
    "        our_title_clean.append( re.sub('[^A-Za-z0-9]+', '',title).lower() )\n",
    "    except:\n",
    "        our_title_clean.append(np.nan)\n",
    "df_our['title_clean'] = our_title_clean\n",
    "df_our[df_our.title_clean.isnull()].head()"
   ]
  },
  {
   "cell_type": "code",
   "execution_count": 252,
   "metadata": {
    "collapsed": false
   },
   "outputs": [],
   "source": [
    "df_metacritic = df_metacritic[df_metacritic.title_clean.notnull()]\n",
    "df_our = df_our[df_our.title_clean.notnull()]"
   ]
  },
  {
   "cell_type": "code",
   "execution_count": 273,
   "metadata": {
    "collapsed": false
   },
   "outputs": [
    {
     "name": "stdout",
     "output_type": "stream",
     "text": [
      "                                                 Actors  \\\n",
      "1836  Tommy Lee Jones, Will Smith, Linda Fiorentino,...   \n",
      "3209  Vladimir Garin, Ivan Dobronravov, Konstantin L...   \n",
      "\n",
      "                                                 Awards BoxOffice Country  \\\n",
      "1836     Won 1 Oscar. Another 18 wins & 39 nominations.       N/A     USA   \n",
      "3209  Nominated for 1 Golden Globe. Another 28 wins ...       N/A  Russia   \n",
      "\n",
      "              DVD            Director Error                     Genre  \\\n",
      "1836  23 Oct 1997    Barry Sonnenfeld   NaN            Comedy, Sci-Fi   \n",
      "3209  19 Oct 2004  Andrey Zvyagintsev   NaN  Drama, Mystery, Thriller   \n",
      "\n",
      "              Language Metascore     ...     tomatoImage tomatoMeter  \\\n",
      "1836  English, Spanish        71     ...       certified          92   \n",
      "3209           Russian        82     ...             N/A         N/A   \n",
      "\n",
      "     tomatoRating tomatoReviews tomatoRotten  \\\n",
      "1836          7.4            85            7   \n",
      "3209          N/A           N/A          N/A   \n",
      "\n",
      "                                             tomatoURL tomatoUserMeter  \\\n",
      "1836     http://www.rottentomatoes.com/m/men_in_black/              79   \n",
      "3209  http://www.rottentomatoes.com/m/the-return-2003/              86   \n",
      "\n",
      "     tomatoUserRating tomatoUserReviews title_clean  \n",
      "1836              3.5           1047176  meninblack  \n",
      "3209              3.9               300   thereturn  \n",
      "\n",
      "[2 rows x 37 columns]\n"
     ]
    }
   ],
   "source": [
    "print df_our[df_our.duplicated()]\n",
    "df_our = df_our.drop_duplicates()\n",
    "#meninblack and thereturn are duplicated\n"
   ]
  },
  {
   "cell_type": "code",
   "execution_count": 296,
   "metadata": {
    "collapsed": true
   },
   "outputs": [],
   "source": [
    "df_mojo_metacritic = pd.merge(df_mojo, df_metacritic, how='left', on=['title_clean','year'])\n",
    "df_mojo_our = pd.merge(df_mojo, df_our, how='left', on=['title_clean'])"
   ]
  },
  {
   "cell_type": "code",
   "execution_count": 297,
   "metadata": {
    "collapsed": false
   },
   "outputs": [
    {
     "name": "stdout",
     "output_type": "stream",
     "text": [
      "             alt_title\n",
      "title_clean           \n",
      "thereturn            2\n"
     ]
    }
   ],
   "source": [
    "mojo_our_title_count = df_mojo_our[['title_clean','alt_title']].groupby('title_clean').count()\n",
    "print mojo_our_title_count[mojo_our_title_count['alt_title']>1]\n",
    "df_mojo_our[df_mojo_our.title_clean=='thereturn'].T\n",
    "#'The Return' has different years in datasets so remove all\n",
    "df_mojo_our = df_mojo_our[df_mojo_our.title_clean!='thereturn']"
   ]
  },
  {
   "cell_type": "code",
   "execution_count": 299,
   "metadata": {
    "collapsed": false
   },
   "outputs": [
    {
     "data": {
      "text/html": [
       "<div>\n",
       "<table border=\"1\" class=\"dataframe\">\n",
       "  <thead>\n",
       "    <tr style=\"text-align: right;\">\n",
       "      <th></th>\n",
       "      <th>alt_title</th>\n",
       "    </tr>\n",
       "    <tr>\n",
       "      <th>title_clean</th>\n",
       "      <th></th>\n",
       "    </tr>\n",
       "  </thead>\n",
       "  <tbody>\n",
       "    <tr>\n",
       "      <th>thereturn</th>\n",
       "      <td>2</td>\n",
       "    </tr>\n",
       "  </tbody>\n",
       "</table>\n",
       "</div>"
      ],
      "text/plain": [
       "             alt_title\n",
       "title_clean           \n",
       "thereturn            2"
      ]
     },
     "execution_count": 299,
     "metadata": {},
     "output_type": "execute_result"
    }
   ],
   "source": [
    "mojo_metacritic_title_count = df_mojo_metacritic[['title_clean','alt_title']].groupby('title_clean').count()\n",
    "mojo_metacritic_title_count[mojo_metacritic_title_count.alt_title>1]\n"
   ]
  },
  {
   "cell_type": "code",
   "execution_count": 304,
   "metadata": {
    "collapsed": false,
    "scrolled": true
   },
   "outputs": [
    {
     "name": "stdout",
     "output_type": "stream",
     "text": [
      "3728\n",
      "4763\n",
      "3554\n",
      "3728\n",
      "3726\n",
      "3348\n",
      "3508\n"
     ]
    }
   ],
   "source": [
    "print len(df_mojo)\n",
    "print len(df_metacritic)\n",
    "print len(df_our)\n",
    "print len(df_mojo_metacritic)\n",
    "print len(df_mojo_our)\n",
    "\n",
    "print sum(df_mojo_metacritic.title_y.notnull())\n",
    "print sum(df_mojo_our.Title.notnull())\n",
    "#remove all rows without matching titles in right dataframe in merge\n",
    "\n",
    "df_mojo_metacritic = df_mojo_metacritic[df_mojo_metacritic.title_y.notnull()]\n",
    "df_mojo_our = df_mojo_our[df_mojo_our.Title.notnull()]\n"
   ]
  },
  {
   "cell_type": "code",
   "execution_count": 308,
   "metadata": {
    "collapsed": false
   },
   "outputs": [
    {
     "name": "stdout",
     "output_type": "stream",
     "text": [
      "<class 'pandas.core.frame.DataFrame'>\n",
      "Int64Index: 3348 entries, 0 to 3727\n",
      "Data columns (total 31 columns):\n",
      "alt_title               3348 non-null object\n",
      "director_x              2027 non-null object\n",
      "domestic_gross          3306 non-null float64\n",
      "mojo_slug               3348 non-null object\n",
      "opening_per_theater     3243 non-null float64\n",
      "opening_weekend_take    3243 non-null float64\n",
      "production_budget       1508 non-null float64\n",
      "release_date_limited    274 non-null object\n",
      "release_date_wide       3345 non-null object\n",
      "title_x                 3348 non-null object\n",
      "widest_release          3268 non-null float64\n",
      "worldwide_gross         2628 non-null float64\n",
      "year                    3348 non-null float64\n",
      "title_clean             3348 non-null object\n",
      "director_clean_x        2027 non-null object\n",
      "complete                3348 non-null object\n",
      "director_y              3348 non-null object\n",
      "genre                   3348 non-null object\n",
      "metacritic_page         3348 non-null object\n",
      "metascore               3272 non-null float64\n",
      "num_critic_reviews      3348 non-null object\n",
      "num_user_ratings        3207 non-null float64\n",
      "num_user_reviews        3348 non-null object\n",
      "rating                  3348 non-null object\n",
      "release_date            3348 non-null object\n",
      "runtime_minutes         3295 non-null float64\n",
      "studio                  3330 non-null object\n",
      "title_y                 3348 non-null object\n",
      "unable to retrieve      0 non-null object\n",
      "user_score              3348 non-null object\n",
      "director_clean_y        3348 non-null object\n",
      "dtypes: float64(10), object(21)\n",
      "memory usage: 837.0+ KB\n"
     ]
    }
   ],
   "source": [
    "df_mojo_metacritic.info()\n"
   ]
  },
  {
   "cell_type": "code",
   "execution_count": 309,
   "metadata": {
    "collapsed": false
   },
   "outputs": [
    {
     "name": "stdout",
     "output_type": "stream",
     "text": [
      "<class 'pandas.core.frame.DataFrame'>\n",
      "Int64Index: 3508 entries, 0 to 3727\n",
      "Data columns (total 51 columns):\n",
      "alt_title               3508 non-null object\n",
      "director                2075 non-null object\n",
      "domestic_gross          3453 non-null float64\n",
      "mojo_slug               3508 non-null object\n",
      "opening_per_theater     3364 non-null float64\n",
      "opening_weekend_take    3364 non-null float64\n",
      "production_budget       1530 non-null float64\n",
      "release_date_limited    287 non-null object\n",
      "release_date_wide       3504 non-null object\n",
      "title                   3508 non-null object\n",
      "widest_release          3388 non-null float64\n",
      "worldwide_gross         2683 non-null float64\n",
      "year                    3506 non-null float64\n",
      "title_clean             3508 non-null object\n",
      "director_clean          2075 non-null object\n",
      "Actors                  3508 non-null object\n",
      "Awards                  3508 non-null object\n",
      "BoxOffice               3508 non-null object\n",
      "Country                 3508 non-null object\n",
      "DVD                     3508 non-null object\n",
      "Director                3508 non-null object\n",
      "Error                   0 non-null object\n",
      "Genre                   3508 non-null object\n",
      "Language                3508 non-null object\n",
      "Metascore               3508 non-null object\n",
      "Plot                    3508 non-null object\n",
      "Poster                  3508 non-null object\n",
      "Production              3508 non-null object\n",
      "Rated                   3508 non-null object\n",
      "Released                3508 non-null object\n",
      "Response                3508 non-null object\n",
      "Runtime                 3508 non-null object\n",
      "Title                   3508 non-null object\n",
      "Type                    3508 non-null object\n",
      "Website                 3508 non-null object\n",
      "Writer                  3508 non-null object\n",
      "Year                    3508 non-null object\n",
      "imdbID                  3508 non-null object\n",
      "imdbRating              3508 non-null object\n",
      "imdbVotes               3508 non-null object\n",
      "tomatoConsensus         3508 non-null object\n",
      "tomatoFresh             3508 non-null object\n",
      "tomatoImage             3508 non-null object\n",
      "tomatoMeter             3508 non-null object\n",
      "tomatoRating            3508 non-null object\n",
      "tomatoReviews           3508 non-null object\n",
      "tomatoRotten            3508 non-null object\n",
      "tomatoURL               3508 non-null object\n",
      "tomatoUserMeter         3508 non-null object\n",
      "tomatoUserRating        3508 non-null object\n",
      "tomatoUserReviews       3508 non-null object\n",
      "dtypes: float64(7), object(44)\n",
      "memory usage: 1.4+ MB\n"
     ]
    }
   ],
   "source": [
    "df_mojo_our.info()"
   ]
  },
  {
   "cell_type": "code",
   "execution_count": null,
   "metadata": {
    "collapsed": true
   },
   "outputs": [],
   "source": [
    "df_mojo_metacritic.title_clean"
   ]
  },
  {
   "cell_type": "code",
   "execution_count": 317,
   "metadata": {
    "collapsed": false
   },
   "outputs": [
    {
     "name": "stdout",
     "output_type": "stream",
     "text": [
      "<class 'pandas.core.frame.DataFrame'>\n",
      "Int64Index: 3297 entries, 0 to 3296\n",
      "Data columns (total 81 columns):\n",
      "alt_title_x               3297 non-null object\n",
      "director_x                2002 non-null object\n",
      "domestic_gross_x          3259 non-null float64\n",
      "mojo_slug_x               3297 non-null object\n",
      "opening_per_theater_x     3197 non-null float64\n",
      "opening_weekend_take_x    3197 non-null float64\n",
      "production_budget_x       1489 non-null float64\n",
      "release_date_limited_x    272 non-null object\n",
      "release_date_wide_x       3295 non-null object\n",
      "title_x                   3297 non-null object\n",
      "widest_release_x          3221 non-null float64\n",
      "worldwide_gross_x         2591 non-null float64\n",
      "year_x                    3297 non-null float64\n",
      "title_clean               3297 non-null object\n",
      "director_clean_x          2002 non-null object\n",
      "complete                  3297 non-null object\n",
      "director_y                3297 non-null object\n",
      "genre                     3297 non-null object\n",
      "metacritic_page           3297 non-null object\n",
      "metascore                 3224 non-null float64\n",
      "num_critic_reviews        3297 non-null object\n",
      "num_user_ratings          3160 non-null float64\n",
      "num_user_reviews          3297 non-null object\n",
      "rating                    3297 non-null object\n",
      "release_date              3297 non-null object\n",
      "runtime_minutes           3246 non-null float64\n",
      "studio                    3281 non-null object\n",
      "title_y                   3297 non-null object\n",
      "unable to retrieve        0 non-null object\n",
      "user_score                3297 non-null object\n",
      "director_clean_y          3297 non-null object\n",
      "alt_title_y               3297 non-null object\n",
      "director                  2002 non-null object\n",
      "domestic_gross_y          3259 non-null float64\n",
      "mojo_slug_y               3297 non-null object\n",
      "opening_per_theater_y     3197 non-null float64\n",
      "opening_weekend_take_y    3197 non-null float64\n",
      "production_budget_y       1489 non-null float64\n",
      "release_date_limited_y    272 non-null object\n",
      "release_date_wide_y       3295 non-null object\n",
      "title                     3297 non-null object\n",
      "widest_release_y          3221 non-null float64\n",
      "worldwide_gross_y         2591 non-null float64\n",
      "year_y                    3297 non-null float64\n",
      "director_clean            2002 non-null object\n",
      "Actors                    3297 non-null object\n",
      "Awards                    3297 non-null object\n",
      "BoxOffice                 3297 non-null object\n",
      "Country                   3297 non-null object\n",
      "DVD                       3297 non-null object\n",
      "Director                  3297 non-null object\n",
      "Error                     0 non-null object\n",
      "Genre                     3297 non-null object\n",
      "Language                  3297 non-null object\n",
      "Metascore                 3297 non-null object\n",
      "Plot                      3297 non-null object\n",
      "Poster                    3297 non-null object\n",
      "Production                3297 non-null object\n",
      "Rated                     3297 non-null object\n",
      "Released                  3297 non-null object\n",
      "Response                  3297 non-null object\n",
      "Runtime                   3297 non-null object\n",
      "Title                     3297 non-null object\n",
      "Type                      3297 non-null object\n",
      "Website                   3297 non-null object\n",
      "Writer                    3297 non-null object\n",
      "Year                      3297 non-null object\n",
      "imdbID                    3297 non-null object\n",
      "imdbRating                3297 non-null object\n",
      "imdbVotes                 3297 non-null object\n",
      "tomatoConsensus           3297 non-null object\n",
      "tomatoFresh               3297 non-null object\n",
      "tomatoImage               3297 non-null object\n",
      "tomatoMeter               3297 non-null object\n",
      "tomatoRating              3297 non-null object\n",
      "tomatoReviews             3297 non-null object\n",
      "tomatoRotten              3297 non-null object\n",
      "tomatoURL                 3297 non-null object\n",
      "tomatoUserMeter           3297 non-null object\n",
      "tomatoUserRating          3297 non-null object\n",
      "tomatoUserReviews         3297 non-null object\n",
      "dtypes: float64(17), object(64)\n",
      "memory usage: 2.1+ MB\n"
     ]
    }
   ],
   "source": [
    "df_all = pd.merge(df_mojo_metacritic, df_mojo_our, on='title_clean')\n",
    "df_all.info()"
   ]
  },
  {
   "cell_type": "code",
   "execution_count": 319,
   "metadata": {
    "collapsed": false
   },
   "outputs": [],
   "source": [
    "df_all_final = df_all[['title_clean','domestic_gross_x','Director','Genre','year_x','Actors','release_date_wide_x']]\n",
    "\n",
    "#domestic_gross_x and domestic_gross_y are same (both from df_mojo)\n",
    "#director_x and director are from df_mojo and is most incomplete; director_y is from df_metacritic, Director is from df_our\n",
    "#genre is from df_metacritic, Genre is from df_our\n",
    "#year_x and year_y are same (both from df_mojo)\n",
    "#Actors is unique\n",
    "#release_date_wide_x and release_date_wide_y are same (both from df_mojo)\n"
   ]
  },
  {
   "cell_type": "code",
   "execution_count": 325,
   "metadata": {
    "collapsed": false
   },
   "outputs": [
    {
     "name": "stdout",
     "output_type": "stream",
     "text": [
      "<class 'pandas.core.frame.DataFrame'>\n",
      "Int64Index: 3297 entries, 0 to 3296\n",
      "Data columns (total 7 columns):\n",
      "title_clean            3297 non-null object\n",
      "domestic_gross_x       3259 non-null float64\n",
      "Director               3297 non-null object\n",
      "Genre                  3297 non-null object\n",
      "year_x                 3297 non-null float64\n",
      "Actors                 3297 non-null object\n",
      "release_date_wide_x    3295 non-null object\n",
      "dtypes: float64(2), object(5)\n",
      "memory usage: 206.1+ KB\n"
     ]
    },
    {
     "data": {
      "text/plain": [
       "3257"
      ]
     },
     "execution_count": 325,
     "metadata": {},
     "output_type": "execute_result"
    }
   ],
   "source": [
    "df_all_final.info()\n",
    "len(df_all_final.dropna())"
   ]
  },
  {
   "cell_type": "code",
   "execution_count": 324,
   "metadata": {
    "collapsed": false
   },
   "outputs": [
    {
     "name": "stdout",
     "output_type": "stream",
     "text": [
      "<class 'pandas.core.frame.DataFrame'>\n",
      "Int64Index: 3297 entries, 0 to 3296\n",
      "Data columns (total 7 columns):\n",
      "title_clean            3297 non-null object\n",
      "domestic_gross_x       3259 non-null float64\n",
      "Director               3297 non-null object\n",
      "Genre                  3297 non-null object\n",
      "year_x                 3297 non-null float64\n",
      "Actors                 3297 non-null object\n",
      "release_date_wide_x    3295 non-null object\n",
      "dtypes: float64(2), object(5)\n",
      "memory usage: 206.1+ KB\n"
     ]
    }
   ],
   "source": [
    "df_all_final = df_all_final.dropna()"
   ]
  },
  {
   "cell_type": "code",
   "execution_count": 327,
   "metadata": {
    "collapsed": false
   },
   "outputs": [],
   "source": [
    "df_all_final.to_excel('final_data.xlsx')"
   ]
  },
  {
   "cell_type": "code",
   "execution_count": 340,
   "metadata": {
    "collapsed": false
   },
   "outputs": [
    {
     "name": "stdout",
     "output_type": "stream",
     "text": [
      "38\n",
      "15\n",
      "2\n",
      "2\n",
      "9\n"
     ]
    }
   ],
   "source": [
    "print sum(df_all_final.domestic_gross_x.isnull())\n",
    "print sum(df_all_final.Director=='N/A')\n",
    "print sum(df_all_final.Genre=='N/A')\n",
    "print sum(df_all_final.release_date_wide_x.isnull())\n",
    "print sum(df_all_final.Actors=='N/A')\n",
    "#domestic_gross has 38 \"\" (blanks)\n",
    "#Director has 15 \"N/A\"\n",
    "#Genre has 2 \"N/A\"\n",
    "#release_date_wide has 2 \"\" (blanks)\n",
    "#Actors has 9 \"N/A\""
   ]
  },
  {
   "cell_type": "code",
   "execution_count": 341,
   "metadata": {
    "collapsed": false
   },
   "outputs": [
    {
     "data": {
      "text/plain": [
       "3233"
      ]
     },
     "execution_count": 341,
     "metadata": {},
     "output_type": "execute_result"
    }
   ],
   "source": [
    "df_all_final = df_all_final[df_all_final.domestic_gross_x.notnull()]\n",
    "df_all_final = df_all_final[df_all_final.Director!='N/A']\n",
    "df_all_final = df_all_final[df_all_final.Genre!='N/A']\n",
    "df_all_final = df_all_final[df_all_final.release_date_wide_x.notnull()]\n",
    "df_all_final = df_all_final[df_all_final.Actors!='N/A']\n",
    "len(df_all_final)"
   ]
  },
  {
   "cell_type": "code",
   "execution_count": 344,
   "metadata": {
    "collapsed": false
   },
   "outputs": [],
   "source": [
    "df_all_final.columns = ['title','domestic_gross','director','genre','year','actors','release_date_wide']"
   ]
  },
  {
   "cell_type": "code",
   "execution_count": 345,
   "metadata": {
    "collapsed": false
   },
   "outputs": [
    {
     "data": {
      "text/html": [
       "<div>\n",
       "<table border=\"1\" class=\"dataframe\">\n",
       "  <thead>\n",
       "    <tr style=\"text-align: right;\">\n",
       "      <th></th>\n",
       "      <th>title</th>\n",
       "      <th>domestic_gross</th>\n",
       "      <th>director</th>\n",
       "      <th>genre</th>\n",
       "      <th>year</th>\n",
       "      <th>actors</th>\n",
       "      <th>release_date_wide</th>\n",
       "    </tr>\n",
       "  </thead>\n",
       "  <tbody>\n",
       "    <tr>\n",
       "      <th>0</th>\n",
       "      <td>10000bc</td>\n",
       "      <td>94784201.0</td>\n",
       "      <td>Roland Emmerich</td>\n",
       "      <td>Action, Adventure, Drama</td>\n",
       "      <td>2008.0</td>\n",
       "      <td>Steven Strait, Camilla Belle, Cliff Curtis, Jo...</td>\n",
       "      <td>2008-03-07</td>\n",
       "    </tr>\n",
       "    <tr>\n",
       "      <th>1</th>\n",
       "      <td>102dalmatians</td>\n",
       "      <td>66957026.0</td>\n",
       "      <td>Kevin Lima</td>\n",
       "      <td>Adventure, Comedy, Family</td>\n",
       "      <td>2000.0</td>\n",
       "      <td>Glenn Close, Gérard Depardieu, Ioan Gruffudd, ...</td>\n",
       "      <td>2000-11-22</td>\n",
       "    </tr>\n",
       "    <tr>\n",
       "      <th>2</th>\n",
       "      <td>10thingsihateaboutyou</td>\n",
       "      <td>38178166.0</td>\n",
       "      <td>Gil Junger</td>\n",
       "      <td>Comedy, Drama, Romance</td>\n",
       "      <td>1999.0</td>\n",
       "      <td>Heath Ledger, Julia Stiles, Joseph Gordon-Levi...</td>\n",
       "      <td>1999-03-31</td>\n",
       "    </tr>\n",
       "    <tr>\n",
       "      <th>3</th>\n",
       "      <td>10years</td>\n",
       "      <td>203373.0</td>\n",
       "      <td>Jamie Linden</td>\n",
       "      <td>Comedy, Drama, Romance</td>\n",
       "      <td>2012.0</td>\n",
       "      <td>Channing Tatum, Jenna Dewan Tatum, Justin Long...</td>\n",
       "      <td>2012-09-14</td>\n",
       "    </tr>\n",
       "    <tr>\n",
       "      <th>4</th>\n",
       "      <td>11flowers</td>\n",
       "      <td>9213.0</td>\n",
       "      <td>Xiaoshuai Wang</td>\n",
       "      <td>Drama</td>\n",
       "      <td>2013.0</td>\n",
       "      <td>Gang Cao, Shiping Cao, Wenqing Liu, Yihao Lou</td>\n",
       "      <td>2013-02-22</td>\n",
       "    </tr>\n",
       "  </tbody>\n",
       "</table>\n",
       "</div>"
      ],
      "text/plain": [
       "                   title  domestic_gross         director  \\\n",
       "0                10000bc      94784201.0  Roland Emmerich   \n",
       "1          102dalmatians      66957026.0       Kevin Lima   \n",
       "2  10thingsihateaboutyou      38178166.0       Gil Junger   \n",
       "3                10years        203373.0     Jamie Linden   \n",
       "4              11flowers          9213.0   Xiaoshuai Wang   \n",
       "\n",
       "                       genre    year  \\\n",
       "0   Action, Adventure, Drama  2008.0   \n",
       "1  Adventure, Comedy, Family  2000.0   \n",
       "2     Comedy, Drama, Romance  1999.0   \n",
       "3     Comedy, Drama, Romance  2012.0   \n",
       "4                      Drama  2013.0   \n",
       "\n",
       "                                              actors release_date_wide  \n",
       "0  Steven Strait, Camilla Belle, Cliff Curtis, Jo...        2008-03-07  \n",
       "1  Glenn Close, Gérard Depardieu, Ioan Gruffudd, ...        2000-11-22  \n",
       "2  Heath Ledger, Julia Stiles, Joseph Gordon-Levi...        1999-03-31  \n",
       "3  Channing Tatum, Jenna Dewan Tatum, Justin Long...        2012-09-14  \n",
       "4      Gang Cao, Shiping Cao, Wenqing Liu, Yihao Lou        2013-02-22  "
      ]
     },
     "execution_count": 345,
     "metadata": {},
     "output_type": "execute_result"
    }
   ],
   "source": [
    "df_all_final.head()"
   ]
  },
  {
   "cell_type": "code",
   "execution_count": 346,
   "metadata": {
    "collapsed": false
   },
   "outputs": [],
   "source": [
    "df_all_final.to_excel('final_data.xlsx')"
   ]
  }
 ],
 "metadata": {
  "kernelspec": {
   "display_name": "Python 2",
   "language": "python",
   "name": "python2"
  },
  "language_info": {
   "codemirror_mode": {
    "name": "ipython",
    "version": 2
   },
   "file_extension": ".py",
   "mimetype": "text/x-python",
   "name": "python",
   "nbconvert_exporter": "python",
   "pygments_lexer": "ipython2",
   "version": "2.7.11"
  }
 },
 "nbformat": 4,
 "nbformat_minor": 0
}
