{
 "cells": [
  {
   "cell_type": "markdown",
   "metadata": {},
   "source": [
    "### Working Prototype"
   ]
  },
  {
   "cell_type": "code",
   "execution_count": null,
   "metadata": {
    "collapsed": true
   },
   "outputs": [],
   "source": [
    "# do some imports"
   ]
  },
  {
   "cell_type": "code",
   "execution_count": 274,
   "metadata": {
    "collapsed": true
   },
   "outputs": [],
   "source": [
    "x = \"\"\" I am a \n",
    "multi line\n",
    "string\"\"\""
   ]
  },
  {
   "cell_type": "code",
   "execution_count": 275,
   "metadata": {
    "collapsed": false
   },
   "outputs": [
    {
     "name": "stdout",
     "output_type": "stream",
     "text": [
      " I am a \n",
      "multi line\n",
      "string\n"
     ]
    }
   ],
   "source": [
    "print x"
   ]
  },
  {
   "cell_type": "code",
   "execution_count": 276,
   "metadata": {
    "collapsed": false
   },
   "outputs": [
    {
     "data": {
      "text/plain": [
       "26"
      ]
     },
     "execution_count": 276,
     "metadata": {},
     "output_type": "execute_result"
    }
   ],
   "source": [
    "len(x)"
   ]
  },
  {
   "cell_type": "code",
   "execution_count": 1,
   "metadata": {
    "collapsed": false
   },
   "outputs": [
    {
     "data": {
      "text/plain": [
       "u'/Users/ims002/data_camp2/team4_project1/raw_data'"
      ]
     },
     "execution_count": 1,
     "metadata": {},
     "output_type": "execute_result"
    }
   ],
   "source": [
    "pwd"
   ]
  },
  {
   "cell_type": "code",
   "execution_count": 2,
   "metadata": {
    "collapsed": false
   },
   "outputs": [
    {
     "name": "stdout",
     "output_type": "stream",
     "text": [
      "README.md       Untitled.ipynb  \u001b[34mboxofficemojo\u001b[m\u001b[m/  \u001b[34mmetacritic\u001b[m\u001b[m/     \u001b[34mour_movies\u001b[m\u001b[m/\r\n"
     ]
    }
   ],
   "source": [
    "ls"
   ]
  },
  {
   "cell_type": "code",
   "execution_count": 98,
   "metadata": {
    "collapsed": true
   },
   "outputs": [],
   "source": [
    "import os\n",
    "import json\n",
    "import pandas as pd\n",
    "import re"
   ]
  },
  {
   "cell_type": "code",
   "execution_count": 7,
   "metadata": {
    "collapsed": false
   },
   "outputs": [
    {
     "data": {
      "text/plain": [
       "['mojo_102dalmatians.json',\n",
       " 'mojo_10thingsihateaboutyou.json',\n",
       " 'mojo_10years.json',\n",
       " 'mojo_11flowers.json',\n",
       " 'mojo_11thhour.json',\n",
       " 'mojo_127hours.json',\n",
       " 'mojo_12rounds.json',\n",
       " 'mojo_13assassins.json',\n",
       " 'mojo_13goingon30.json']"
      ]
     },
     "execution_count": 7,
     "metadata": {},
     "output_type": "execute_result"
    }
   ],
   "source": [
    "CURRENT_DIR = os.getcwd()\n",
    "DATA_DIR = os.path.abspath(os.path.join(CURRENT_DIR))\n"
   ]
  },
  {
   "cell_type": "code",
   "execution_count": 11,
   "metadata": {
    "collapsed": false,
    "scrolled": true
   },
   "outputs": [],
   "source": [
    "MOJO_DIR = os.path.join(DATA_DIR, 'boxofficemojo' )\n",
    "list_dir = os.listdir(MOJO_DIR)\n",
    "list_dir[1:10]\n",
    "movies_box = []\n",
    "for i in range(len(list_dir)):\n",
    "        target_file_path = os.path.join(MOJO_DIR, list_dir[i])\n",
    "        with open(target_file_path, 'r') as target_file:\n",
    "            movie = json.load(target_file)\n",
    "        movies_box.append(movie)\n"
   ]
  },
  {
   "cell_type": "code",
   "execution_count": 73,
   "metadata": {
    "collapsed": false
   },
   "outputs": [],
   "source": [
    "MOJO_DIR = os.path.join(DATA_DIR, 'our_movies' )\n",
    "list_dir = os.listdir(MOJO_DIR)\n",
    "#list_dir[1:10]\n",
    "movies_our = []\n",
    "for i in range(len(list_dir)):\n",
    "        if list_dir[i][-4:]=='json':\n",
    "            target_file_path = os.path.join(MOJO_DIR, list_dir[i])\n",
    "            with open(target_file_path, 'r') as target_file:\n",
    "                movie = json.load(target_file)\n",
    "            movies_our.append(movie)"
   ]
  },
  {
   "cell_type": "code",
   "execution_count": 24,
   "metadata": {
    "collapsed": true
   },
   "outputs": [],
   "source": [
    "MOJO_DIR = os.path.join(DATA_DIR, 'metacritic' )\n",
    "list_dir = os.listdir(MOJO_DIR)\n",
    "#list_dir[1:10]\n",
    "movies_metric = []\n",
    "for i in range(len(list_dir)):\n",
    "        target_file_path = os.path.join(MOJO_DIR, list_dir[i])\n",
    "        with open(target_file_path, 'r') as target_file:\n",
    "            movie = json.load(target_file)\n",
    "        movies_metric.append(movie)"
   ]
  },
  {
   "cell_type": "code",
   "execution_count": 75,
   "metadata": {
    "collapsed": false
   },
   "outputs": [],
   "source": [
    "box_df=pd.DataFrame(movies_box)"
   ]
  },
  {
   "cell_type": "code",
   "execution_count": 76,
   "metadata": {
    "collapsed": true
   },
   "outputs": [],
   "source": [
    "our_df=pd.DataFrame(movies_our)"
   ]
  },
  {
   "cell_type": "code",
   "execution_count": 78,
   "metadata": {
    "collapsed": true
   },
   "outputs": [],
   "source": [
    "new_metric=[i for i in movies_metric if str(type(i)) == \"<type 'dict'>\"]\n",
    "metric_df=pd.DataFrame(new_metric)"
   ]
  },
  {
   "cell_type": "code",
   "execution_count": 132,
   "metadata": {
    "collapsed": false
   },
   "outputs": [],
   "source": [
    "new_title=[re.sub('[^A-Za-z0-9]+', '',i.lower()) for i in box_df.loc[:,'title']]\n",
    "#new_director=[re.sub('[^A-Za-z0-9]+', '',i.lower()) for i in box_df.loc[:,'director']]"
   ]
  },
  {
   "cell_type": "code",
   "execution_count": 159,
   "metadata": {
    "collapsed": true
   },
   "outputs": [],
   "source": [
    "new_director=[]\n",
    "for i in box_df.loc[:,'director']:\n",
    "    try:\n",
    "        x=re.sub('[^A-Za-z0-9]+', '',i)\n",
    "        new_director.append(x.lower())\n",
    "    except:\n",
    "        new_director.append('NAN')"
   ]
  },
  {
   "cell_type": "code",
   "execution_count": 160,
   "metadata": {
    "collapsed": false
   },
   "outputs": [
    {
     "data": {
      "text/plain": [
       "3728"
      ]
     },
     "execution_count": 160,
     "metadata": {},
     "output_type": "execute_result"
    }
   ],
   "source": [
    "len(new_director)"
   ]
  },
  {
   "cell_type": "code",
   "execution_count": 161,
   "metadata": {
    "collapsed": false
   },
   "outputs": [],
   "source": [
    "box_df['new_title']=new_title\n",
    "box_df['new_director']=new_director"
   ]
  },
  {
   "cell_type": "code",
   "execution_count": 162,
   "metadata": {
    "collapsed": false
   },
   "outputs": [],
   "source": [
    " a=[]\n",
    "for i in metric_df.loc[:,'title']:\n",
    "    try:\n",
    "        x=re.sub('[^A-Za-z0-9]+', '',i)\n",
    "        a.append(x.lower())\n",
    "    except:\n",
    "        a.append('NAN')\n",
    "        \n",
    "new_director1=[]\n",
    "for i in metric_df.loc[:,'director']:\n",
    "    try:\n",
    "        x=re.sub('[^A-Za-z0-9]+', '',i)\n",
    "        new_director1.append(x.lower())\n",
    "    except:\n",
    "        new_director1.append('NAN')"
   ]
  },
  {
   "cell_type": "code",
   "execution_count": 163,
   "metadata": {
    "collapsed": true
   },
   "outputs": [],
   "source": [
    "metric_df['new_title']=a\n",
    "metric_df['new_director']=new_director1"
   ]
  },
  {
   "cell_type": "code",
   "execution_count": 205,
   "metadata": {
    "collapsed": false
   },
   "outputs": [],
   "source": [
    "our_title=[]\n",
    "for i in our_df.loc[:,'Title']:\n",
    "    try:\n",
    "        x=re.sub('[^A-Za-z0-9]+', '',i)\n",
    "        our_title.append(x.lower())\n",
    "    except:\n",
    "        our_title.append('NAN')\n",
    "        "
   ]
  },
  {
   "cell_type": "code",
   "execution_count": 207,
   "metadata": {
    "collapsed": true
   },
   "outputs": [],
   "source": [
    "our_df['new_title']=our_title"
   ]
  },
  {
   "cell_type": "code",
   "execution_count": 179,
   "metadata": {
    "collapsed": false
   },
   "outputs": [],
   "source": [
    "mojo_critic=pd.merge(box_df,metric_df,how='left',left_on=['new_title','year'],right_on=['new_title','year'])"
   ]
  },
  {
   "cell_type": "code",
   "execution_count": 181,
   "metadata": {
    "collapsed": false
   },
   "outputs": [
    {
     "data": {
      "text/html": [
       "<div>\n",
       "<table border=\"1\" class=\"dataframe\">\n",
       "  <thead>\n",
       "    <tr style=\"text-align: right;\">\n",
       "      <th></th>\n",
       "      <th>alt_title</th>\n",
       "    </tr>\n",
       "    <tr>\n",
       "      <th>new_title</th>\n",
       "      <th></th>\n",
       "    </tr>\n",
       "  </thead>\n",
       "  <tbody>\n",
       "    <tr>\n",
       "      <th></th>\n",
       "      <td>5</td>\n",
       "    </tr>\n",
       "    <tr>\n",
       "      <th>thereturn</th>\n",
       "      <td>2</td>\n",
       "    </tr>\n",
       "  </tbody>\n",
       "</table>\n",
       "</div>"
      ],
      "text/plain": [
       "           alt_title\n",
       "new_title           \n",
       "                   5\n",
       "thereturn          2"
      ]
     },
     "execution_count": 181,
     "metadata": {},
     "output_type": "execute_result"
    }
   ],
   "source": [
    "test=mojo_critic[['new_title','alt_title']].groupby('new_title').count()\n",
    "test[test['alt_title']>1]"
   ]
  },
  {
   "cell_type": "code",
   "execution_count": 199,
   "metadata": {
    "collapsed": false
   },
   "outputs": [],
   "source": [
    "mojo_our=pd.merge(box_df,our_df,how='left',left_on=['new_title'],right_on=['new_title'])"
   ]
  },
  {
   "cell_type": "code",
   "execution_count": 296,
   "metadata": {
    "collapsed": false
   },
   "outputs": [
    {
     "data": {
      "text/html": [
       "<div>\n",
       "<table border=\"1\" class=\"dataframe\">\n",
       "  <thead>\n",
       "    <tr style=\"text-align: right;\">\n",
       "      <th></th>\n",
       "      <th>alt_title</th>\n",
       "    </tr>\n",
       "    <tr>\n",
       "      <th>new_title</th>\n",
       "      <th></th>\n",
       "    </tr>\n",
       "  </thead>\n",
       "  <tbody>\n",
       "    <tr>\n",
       "      <th></th>\n",
       "      <td>5</td>\n",
       "    </tr>\n",
       "    <tr>\n",
       "      <th>meninblack</th>\n",
       "      <td>2</td>\n",
       "    </tr>\n",
       "    <tr>\n",
       "      <th>thereturn</th>\n",
       "      <td>2</td>\n",
       "    </tr>\n",
       "  </tbody>\n",
       "</table>\n",
       "</div>"
      ],
      "text/plain": [
       "            alt_title\n",
       "new_title            \n",
       "                    5\n",
       "meninblack          2\n",
       "thereturn           2"
      ]
     },
     "execution_count": 296,
     "metadata": {},
     "output_type": "execute_result"
    }
   ],
   "source": [
    "test1=mojo_our[['new_title','alt_title']].groupby('new_title').count()\n",
    "test1[test1['alt_title']>1]"
   ]
  },
  {
   "cell_type": "code",
   "execution_count": 255,
   "metadata": {
    "collapsed": false
   },
   "outputs": [],
   "source": [
    "mojo_our=mojo_our.drop(mojo_our.index[[1432,2794,2803]])"
   ]
  },
  {
   "cell_type": "code",
   "execution_count": 295,
   "metadata": {
    "collapsed": false
   },
   "outputs": [],
   "source": [
    "mojo_our.iloc[mojo_our.index==2793,15:]=0\n",
    "mojo_our.iloc[mojo_our.index==2802,15:]=0"
   ]
  },
  {
   "cell_type": "code",
   "execution_count": 299,
   "metadata": {
    "collapsed": false
   },
   "outputs": [],
   "source": [
    "mojo_critic=mojo_critic.drop(mojo_critic.index[[mojo_critic[mojo_critic['new_title']==''].index]])"
   ]
  },
  {
   "cell_type": "code",
   "execution_count": 302,
   "metadata": {
    "collapsed": false
   },
   "outputs": [],
   "source": [
    "mojo_our=mojo_our.drop(mojo_our.index[[mojo_our[mojo_our['new_title']==''].index]])"
   ]
  },
  {
   "cell_type": "markdown",
   "metadata": {},
   "source": [
    "### Final Two datasets"
   ]
  },
  {
   "cell_type": "markdown",
   "metadata": {},
   "source": [
    "#### Joined mojo and critic data\n",
    "####mojo_critic\n",
    "####Joined mojo and our data\n",
    "####mojo_our"
   ]
  },
  {
   "cell_type": "code",
   "execution_count": 303,
   "metadata": {
    "collapsed": false
   },
   "outputs": [
    {
     "data": {
      "text/plain": [
       "u'/Users/ims002/data_camp2/team4_project1/raw_data'"
      ]
     },
     "execution_count": 303,
     "metadata": {},
     "output_type": "execute_result"
    }
   ],
   "source": [
    "pwd"
   ]
  },
  {
   "cell_type": "code",
   "execution_count": 304,
   "metadata": {
    "collapsed": false
   },
   "outputs": [
    {
     "name": "stdout",
     "output_type": "stream",
     "text": [
      "/Users/ims002/data_camp2/team4_project1\n"
     ]
    }
   ],
   "source": [
    "cd .."
   ]
  },
  {
   "cell_type": "code",
   "execution_count": 305,
   "metadata": {
    "collapsed": true
   },
   "outputs": [],
   "source": [
    "mkdir Clean_data"
   ]
  },
  {
   "cell_type": "code",
   "execution_count": 306,
   "metadata": {
    "collapsed": true
   },
   "outputs": [],
   "source": [
    "os.chdir('Clean_data/')"
   ]
  },
  {
   "cell_type": "code",
   "execution_count": 307,
   "metadata": {
    "collapsed": true
   },
   "outputs": [],
   "source": [
    "mojo_critic.to_excel('mojo_critic.xlsx')"
   ]
  },
  {
   "cell_type": "code",
   "execution_count": 308,
   "metadata": {
    "collapsed": true
   },
   "outputs": [],
   "source": [
    "mojo_our.to_excel('mojo_our.xlsx')"
   ]
  },
  {
   "cell_type": "code",
   "execution_count": 309,
   "metadata": {
    "collapsed": false
   },
   "outputs": [
    {
     "name": "stdout",
     "output_type": "stream",
     "text": [
      "<class 'pandas.core.frame.DataFrame'>\n",
      "RangeIndex: 3728 entries, 0 to 3727\n",
      "Data columns (total 15 columns):\n",
      "alt_title               3728 non-null object\n",
      "director                2172 non-null object\n",
      "domestic_gross          3653 non-null float64\n",
      "mojo_slug               3728 non-null object\n",
      "opening_per_theater     3548 non-null float64\n",
      "opening_weekend_take    3548 non-null float64\n",
      "production_budget       1591 non-null float64\n",
      "release_date_limited    293 non-null object\n",
      "release_date_wide       3718 non-null object\n",
      "title                   3728 non-null object\n",
      "widest_release          3576 non-null float64\n",
      "worldwide_gross         2821 non-null float64\n",
      "year                    3721 non-null float64\n",
      "new_title               3728 non-null object\n",
      "new_director            3728 non-null object\n",
      "dtypes: float64(7), object(8)\n",
      "memory usage: 436.9+ KB\n"
     ]
    }
   ],
   "source": [
    "box_df.info()"
   ]
  },
  {
   "cell_type": "code",
   "execution_count": null,
   "metadata": {
    "collapsed": true
   },
   "outputs": [],
   "source": []
  }
 ],
 "metadata": {
  "kernelspec": {
   "display_name": "Python 2",
   "language": "python",
   "name": "python2"
  },
  "language_info": {
   "codemirror_mode": {
    "name": "ipython",
    "version": 2
   },
   "file_extension": ".py",
   "mimetype": "text/x-python",
   "name": "python",
   "nbconvert_exporter": "python",
   "pygments_lexer": "ipython2",
   "version": "2.7.11"
  }
 },
 "nbformat": 4,
 "nbformat_minor": 0
}
