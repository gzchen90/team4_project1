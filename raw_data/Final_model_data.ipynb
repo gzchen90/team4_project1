{
 "cells": [
  {
   "cell_type": "code",
   "execution_count": 3,
   "metadata": {
    "collapsed": true
   },
   "outputs": [],
   "source": [
    "import pandas as pd"
   ]
  },
  {
   "cell_type": "code",
   "execution_count": 1,
   "metadata": {
    "collapsed": false
   },
   "outputs": [
    {
     "data": {
      "text/plain": [
       "u'/Users/ims002/data_camp2/team4_project1/raw_data'"
      ]
     },
     "execution_count": 1,
     "metadata": {},
     "output_type": "execute_result"
    }
   ],
   "source": [
    "pwd"
   ]
  },
  {
   "cell_type": "code",
   "execution_count": 2,
   "metadata": {
    "collapsed": false
   },
   "outputs": [
    {
     "name": "stdout",
     "output_type": "stream",
     "text": [
      "/Users/ims002/data_camp2/team4_project1/Clean_data\n"
     ]
    }
   ],
   "source": [
    "cd ../Clean_data/"
   ]
  },
  {
   "cell_type": "code",
   "execution_count": 4,
   "metadata": {
    "collapsed": true
   },
   "outputs": [],
   "source": [
    "mojo_critic=pd.read_excel('mojo_critic.xlsx')"
   ]
  },
  {
   "cell_type": "code",
   "execution_count": 5,
   "metadata": {
    "collapsed": false
   },
   "outputs": [
    {
     "data": {
      "text/html": [
       "<div>\n",
       "<table border=\"1\" class=\"dataframe\">\n",
       "  <thead>\n",
       "    <tr style=\"text-align: right;\">\n",
       "      <th></th>\n",
       "      <th>alt_title</th>\n",
       "      <th>director_x</th>\n",
       "      <th>domestic_gross</th>\n",
       "      <th>mojo_slug</th>\n",
       "      <th>opening_per_theater</th>\n",
       "      <th>opening_weekend_take</th>\n",
       "      <th>production_budget</th>\n",
       "      <th>release_date_limited</th>\n",
       "      <th>release_date_wide</th>\n",
       "      <th>title_x</th>\n",
       "      <th>...</th>\n",
       "      <th>num_user_ratings</th>\n",
       "      <th>num_user_reviews</th>\n",
       "      <th>rating</th>\n",
       "      <th>release_date</th>\n",
       "      <th>runtime_minutes</th>\n",
       "      <th>studio</th>\n",
       "      <th>title_y</th>\n",
       "      <th>unable to retrieve</th>\n",
       "      <th>user_score</th>\n",
       "      <th>new_director_y</th>\n",
       "    </tr>\n",
       "  </thead>\n",
       "  <tbody>\n",
       "    <tr>\n",
       "      <th>0</th>\n",
       "      <td>10,000 B.C. (2008)</td>\n",
       "      <td>Roland Emmerich</td>\n",
       "      <td>94784201.0</td>\n",
       "      <td>10000bc</td>\n",
       "      <td>10518.0</td>\n",
       "      <td>35867488.0</td>\n",
       "      <td>105000000.0</td>\n",
       "      <td>NaN</td>\n",
       "      <td>2008-03-07</td>\n",
       "      <td>10,000 B.C.</td>\n",
       "      <td>...</td>\n",
       "      <td>273.0</td>\n",
       "      <td>[50, 18, 60, 128]</td>\n",
       "      <td>PG-13</td>\n",
       "      <td>2008-03-07</td>\n",
       "      <td>109.0</td>\n",
       "      <td>Warner Bros. Pictures</td>\n",
       "      <td>10,000 BC</td>\n",
       "      <td>NaN</td>\n",
       "      <td>4.6</td>\n",
       "      <td>rolandemmerich</td>\n",
       "    </tr>\n",
       "    <tr>\n",
       "      <th>1</th>\n",
       "      <td>102 Dalmatians (2000)</td>\n",
       "      <td>NaN</td>\n",
       "      <td>66957026.0</td>\n",
       "      <td>102dalmatians</td>\n",
       "      <td>7353.0</td>\n",
       "      <td>19883351.0</td>\n",
       "      <td>85000000.0</td>\n",
       "      <td>NaN</td>\n",
       "      <td>2000-11-22</td>\n",
       "      <td>102 Dalmatians</td>\n",
       "      <td>...</td>\n",
       "      <td>47.0</td>\n",
       "      <td>[7, 3, 3, 13]</td>\n",
       "      <td>G</td>\n",
       "      <td>2000-11-22</td>\n",
       "      <td>100.0</td>\n",
       "      <td>Buena Vista Pictures</td>\n",
       "      <td>102 Dalmatians</td>\n",
       "      <td>NaN</td>\n",
       "      <td>5.3</td>\n",
       "      <td>kevinlima</td>\n",
       "    </tr>\n",
       "    <tr>\n",
       "      <th>2</th>\n",
       "      <td>10 Things I Hate About You (1999)</td>\n",
       "      <td>NaN</td>\n",
       "      <td>38178166.0</td>\n",
       "      <td>10thingsihateaboutyou</td>\n",
       "      <td>3668.0</td>\n",
       "      <td>8330681.0</td>\n",
       "      <td>30000000.0</td>\n",
       "      <td>NaN</td>\n",
       "      <td>1999-03-31</td>\n",
       "      <td>10 Things I Hate About You</td>\n",
       "      <td>...</td>\n",
       "      <td>175.0</td>\n",
       "      <td>[27, 1, 1, 29]</td>\n",
       "      <td>PG-13</td>\n",
       "      <td>1999-03-31</td>\n",
       "      <td>97.0</td>\n",
       "      <td>Buena Vista Pictures</td>\n",
       "      <td>10 Things I Hate About You</td>\n",
       "      <td>NaN</td>\n",
       "      <td>7</td>\n",
       "      <td>giljunger</td>\n",
       "    </tr>\n",
       "    <tr>\n",
       "      <th>3</th>\n",
       "      <td>10 Years (2012)</td>\n",
       "      <td>Jamie Linden</td>\n",
       "      <td>203373.0</td>\n",
       "      <td>10years</td>\n",
       "      <td>7569.0</td>\n",
       "      <td>22707.0</td>\n",
       "      <td>NaN</td>\n",
       "      <td>NaN</td>\n",
       "      <td>2012-09-14</td>\n",
       "      <td>10 Years</td>\n",
       "      <td>...</td>\n",
       "      <td>12.0</td>\n",
       "      <td>[3, 2, 1, 6]</td>\n",
       "      <td>R</td>\n",
       "      <td>2012-09-14</td>\n",
       "      <td>100.0</td>\n",
       "      <td>Anchor Bay Entertainment</td>\n",
       "      <td>10 Years</td>\n",
       "      <td>NaN</td>\n",
       "      <td>6.6</td>\n",
       "      <td>jamielinden</td>\n",
       "    </tr>\n",
       "    <tr>\n",
       "      <th>4</th>\n",
       "      <td>11 Flowers (2013)</td>\n",
       "      <td>NaN</td>\n",
       "      <td>9213.0</td>\n",
       "      <td>11flowers</td>\n",
       "      <td>1758.0</td>\n",
       "      <td>3516.0</td>\n",
       "      <td>NaN</td>\n",
       "      <td>NaN</td>\n",
       "      <td>2013-02-22</td>\n",
       "      <td>11 Flowers</td>\n",
       "      <td>...</td>\n",
       "      <td>NaN</td>\n",
       "      <td>[1, 0, 0, 1]</td>\n",
       "      <td>Not Rated</td>\n",
       "      <td>2013-02-22</td>\n",
       "      <td>110.0</td>\n",
       "      <td>First Run Features</td>\n",
       "      <td>11 Flowers</td>\n",
       "      <td>NaN</td>\n",
       "      <td>tbd</td>\n",
       "      <td>xiaoshuaiwang</td>\n",
       "    </tr>\n",
       "  </tbody>\n",
       "</table>\n",
       "<p>5 rows × 31 columns</p>\n",
       "</div>"
      ],
      "text/plain": [
       "                           alt_title       director_x  domestic_gross  \\\n",
       "0                 10,000 B.C. (2008)  Roland Emmerich      94784201.0   \n",
       "1              102 Dalmatians (2000)              NaN      66957026.0   \n",
       "2  10 Things I Hate About You (1999)              NaN      38178166.0   \n",
       "3                    10 Years (2012)     Jamie Linden        203373.0   \n",
       "4                  11 Flowers (2013)              NaN          9213.0   \n",
       "\n",
       "               mojo_slug  opening_per_theater  opening_weekend_take  \\\n",
       "0                10000bc              10518.0            35867488.0   \n",
       "1          102dalmatians               7353.0            19883351.0   \n",
       "2  10thingsihateaboutyou               3668.0             8330681.0   \n",
       "3                10years               7569.0               22707.0   \n",
       "4              11flowers               1758.0                3516.0   \n",
       "\n",
       "   production_budget release_date_limited release_date_wide  \\\n",
       "0        105000000.0                  NaN        2008-03-07   \n",
       "1         85000000.0                  NaN        2000-11-22   \n",
       "2         30000000.0                  NaN        1999-03-31   \n",
       "3                NaN                  NaN        2012-09-14   \n",
       "4                NaN                  NaN        2013-02-22   \n",
       "\n",
       "                      title_x       ...        num_user_ratings  \\\n",
       "0                 10,000 B.C.       ...                   273.0   \n",
       "1             102 Dalmatians        ...                    47.0   \n",
       "2  10 Things I Hate About You       ...                   175.0   \n",
       "3                    10 Years       ...                    12.0   \n",
       "4                 11 Flowers        ...                     NaN   \n",
       "\n",
       "    num_user_reviews     rating release_date runtime_minutes  \\\n",
       "0  [50, 18, 60, 128]      PG-13   2008-03-07           109.0   \n",
       "1      [7, 3, 3, 13]          G   2000-11-22           100.0   \n",
       "2     [27, 1, 1, 29]      PG-13   1999-03-31            97.0   \n",
       "3       [3, 2, 1, 6]          R   2012-09-14           100.0   \n",
       "4       [1, 0, 0, 1]  Not Rated   2013-02-22           110.0   \n",
       "\n",
       "                     studio                     title_y unable to retrieve  \\\n",
       "0     Warner Bros. Pictures                   10,000 BC                NaN   \n",
       "1      Buena Vista Pictures              102 Dalmatians                NaN   \n",
       "2      Buena Vista Pictures  10 Things I Hate About You                NaN   \n",
       "3  Anchor Bay Entertainment                    10 Years                NaN   \n",
       "4        First Run Features                  11 Flowers                NaN   \n",
       "\n",
       "  user_score  new_director_y  \n",
       "0        4.6  rolandemmerich  \n",
       "1        5.3       kevinlima  \n",
       "2          7       giljunger  \n",
       "3        6.6     jamielinden  \n",
       "4        tbd   xiaoshuaiwang  \n",
       "\n",
       "[5 rows x 31 columns]"
      ]
     },
     "execution_count": 5,
     "metadata": {},
     "output_type": "execute_result"
    }
   ],
   "source": [
    "mojo_critic.head()"
   ]
  },
  {
   "cell_type": "code",
   "execution_count": 6,
   "metadata": {
    "collapsed": false
   },
   "outputs": [
    {
     "name": "stdout",
     "output_type": "stream",
     "text": [
      "<class 'pandas.core.frame.DataFrame'>\n",
      "Int64Index: 3723 entries, 0 to 3727\n",
      "Data columns (total 31 columns):\n",
      "alt_title               3723 non-null object\n",
      "director_x              2172 non-null object\n",
      "domestic_gross          3653 non-null float64\n",
      "mojo_slug               3723 non-null object\n",
      "opening_per_theater     3548 non-null float64\n",
      "opening_weekend_take    3548 non-null float64\n",
      "production_budget       1591 non-null float64\n",
      "release_date_limited    293 non-null object\n",
      "release_date_wide       3718 non-null object\n",
      "title_x                 3723 non-null object\n",
      "widest_release          3576 non-null float64\n",
      "worldwide_gross         2821 non-null float64\n",
      "year                    3721 non-null float64\n",
      "new_title               3723 non-null object\n",
      "new_director_x          3723 non-null object\n",
      "complete                3348 non-null float64\n",
      "director_y              3347 non-null object\n",
      "genre                   3345 non-null object\n",
      "metacritic_page         3348 non-null object\n",
      "metascore               3272 non-null float64\n",
      "num_critic_reviews      3348 non-null object\n",
      "num_user_ratings        3207 non-null float64\n",
      "num_user_reviews        3348 non-null object\n",
      "rating                  3263 non-null object\n",
      "release_date            3348 non-null object\n",
      "runtime_minutes         3295 non-null float64\n",
      "studio                  3299 non-null object\n",
      "title_y                 3348 non-null object\n",
      "unable to retrieve      0 non-null float64\n",
      "user_score              3348 non-null object\n",
      "new_director_y          3347 non-null object\n",
      "dtypes: float64(12), object(19)\n",
      "memory usage: 930.8+ KB\n"
     ]
    }
   ],
   "source": [
    "mojo_critic.info()"
   ]
  },
  {
   "cell_type": "code",
   "execution_count": 12,
   "metadata": {
    "collapsed": true
   },
   "outputs": [],
   "source": [
    "mojo_our=pd.read_excel('mojo_our.xlsx')"
   ]
  },
  {
   "cell_type": "code",
   "execution_count": 13,
   "metadata": {
    "collapsed": false
   },
   "outputs": [
    {
     "name": "stdout",
     "output_type": "stream",
     "text": [
      "<class 'pandas.core.frame.DataFrame'>\n",
      "Int64Index: 3723 entries, 0 to 3730\n",
      "Data columns (total 52 columns):\n",
      "alt_title               3723 non-null object\n",
      "director                2170 non-null object\n",
      "domestic_gross          3650 non-null float64\n",
      "mojo_slug               3723 non-null object\n",
      "opening_per_theater     3545 non-null float64\n",
      "opening_weekend_take    3545 non-null float64\n",
      "production_budget       1591 non-null float64\n",
      "release_date_limited    292 non-null object\n",
      "release_date_wide       3715 non-null object\n",
      "title                   3719 non-null object\n",
      "widest_release          3573 non-null float64\n",
      "worldwide_gross         2819 non-null float64\n",
      "year                    3718 non-null float64\n",
      "new_title               3719 non-null object\n",
      "new_director_x          3723 non-null object\n",
      "Actors                  3494 non-null object\n",
      "Awards                  3163 non-null object\n",
      "BoxOffice               1955 non-null object\n",
      "Country                 3505 non-null object\n",
      "DVD                     3328 non-null object\n",
      "Director                3485 non-null object\n",
      "Error                   2 non-null float64\n",
      "Genre                   3503 non-null object\n",
      "Language                3502 non-null object\n",
      "Metascore               3312 non-null float64\n",
      "Plot                    3493 non-null object\n",
      "Poster                  3489 non-null object\n",
      "Production              3344 non-null object\n",
      "Rated                   3321 non-null object\n",
      "Released                3485 non-null object\n",
      "Response                3506 non-null object\n",
      "Runtime                 3495 non-null object\n",
      "Title                   3506 non-null object\n",
      "Type                    3506 non-null object\n",
      "Website                 2742 non-null object\n",
      "Writer                  3410 non-null object\n",
      "Year                    3506 non-null object\n",
      "imdbID                  3506 non-null object\n",
      "imdbRating              3498 non-null float64\n",
      "imdbVotes               3498 non-null object\n",
      "tomatoConsensus         2688 non-null object\n",
      "tomatoFresh             3337 non-null float64\n",
      "tomatoImage             3338 non-null object\n",
      "tomatoMeter             3338 non-null float64\n",
      "tomatoRating            3338 non-null float64\n",
      "tomatoReviews           3338 non-null float64\n",
      "tomatoRotten            3337 non-null float64\n",
      "tomatoURL               3462 non-null object\n",
      "tomatoUserMeter         3431 non-null float64\n",
      "tomatoUserRating        3430 non-null float64\n",
      "tomatoUserReviews       3436 non-null float64\n",
      "new_director_y          3506 non-null object\n",
      "dtypes: float64(18), object(34)\n",
      "memory usage: 1.5+ MB\n"
     ]
    }
   ],
   "source": [
    "mojo_our.info()"
   ]
  },
  {
   "cell_type": "code",
   "execution_count": 15,
   "metadata": {
    "collapsed": false
   },
   "outputs": [],
   "source": [
    "final_table=pd.merge(mojo_critic,mojo_our,how='left',left_on='new_title',right_on='new_title')"
   ]
  },
  {
   "cell_type": "code",
   "execution_count": 16,
   "metadata": {
    "collapsed": false
   },
   "outputs": [
    {
     "name": "stdout",
     "output_type": "stream",
     "text": [
      "<class 'pandas.core.frame.DataFrame'>\n",
      "Int64Index: 3726 entries, 0 to 3725\n",
      "Data columns (total 82 columns):\n",
      "alt_title_x               3726 non-null object\n",
      "director_x                2173 non-null object\n",
      "domestic_gross_x          3656 non-null float64\n",
      "mojo_slug_x               3726 non-null object\n",
      "opening_per_theater_x     3551 non-null float64\n",
      "opening_weekend_take_x    3551 non-null float64\n",
      "production_budget_x       1592 non-null float64\n",
      "release_date_limited_x    293 non-null object\n",
      "release_date_wide_x       3721 non-null object\n",
      "title_x                   3726 non-null object\n",
      "widest_release_x          3579 non-null float64\n",
      "worldwide_gross_x         2824 non-null float64\n",
      "year_x                    3724 non-null float64\n",
      "new_title                 3726 non-null object\n",
      "new_director_x_x          3726 non-null object\n",
      "complete                  3350 non-null float64\n",
      "director_y                3349 non-null object\n",
      "genre                     3347 non-null object\n",
      "metacritic_page           3350 non-null object\n",
      "metascore                 3274 non-null float64\n",
      "num_critic_reviews        3350 non-null object\n",
      "num_user_ratings          3209 non-null float64\n",
      "num_user_reviews          3350 non-null object\n",
      "rating                    3265 non-null object\n",
      "release_date              3350 non-null object\n",
      "runtime_minutes           3297 non-null float64\n",
      "studio                    3301 non-null object\n",
      "title_y                   3350 non-null object\n",
      "unable to retrieve        0 non-null float64\n",
      "user_score                3350 non-null object\n",
      "new_director_y_x          3349 non-null object\n",
      "alt_title_y               3721 non-null object\n",
      "director                  2170 non-null object\n",
      "domestic_gross_y          3652 non-null float64\n",
      "mojo_slug_y               3721 non-null object\n",
      "opening_per_theater_y     3547 non-null float64\n",
      "opening_weekend_take_y    3547 non-null float64\n",
      "production_budget_y       1591 non-null float64\n",
      "release_date_limited_y    292 non-null object\n",
      "release_date_wide_y       3717 non-null object\n",
      "title                     3721 non-null object\n",
      "widest_release_y          3575 non-null float64\n",
      "worldwide_gross_y         2821 non-null float64\n",
      "year_y                    3720 non-null float64\n",
      "new_director_x_y          3721 non-null object\n",
      "Actors                    3496 non-null object\n",
      "Awards                    3165 non-null object\n",
      "BoxOffice                 1957 non-null object\n",
      "Country                   3507 non-null object\n",
      "DVD                       3330 non-null object\n",
      "Director                  3487 non-null object\n",
      "Error                     4 non-null float64\n",
      "Genre                     3505 non-null object\n",
      "Language                  3504 non-null object\n",
      "Metascore                 3314 non-null float64\n",
      "Plot                      3495 non-null object\n",
      "Poster                    3491 non-null object\n",
      "Production                3346 non-null object\n",
      "Rated                     3323 non-null object\n",
      "Released                  3487 non-null object\n",
      "Response                  3508 non-null object\n",
      "Runtime                   3497 non-null object\n",
      "Title                     3508 non-null object\n",
      "Type                      3508 non-null object\n",
      "Website                   2744 non-null object\n",
      "Writer                    3412 non-null object\n",
      "Year                      3508 non-null object\n",
      "imdbID                    3508 non-null object\n",
      "imdbRating                3500 non-null float64\n",
      "imdbVotes                 3500 non-null object\n",
      "tomatoConsensus           2690 non-null object\n",
      "tomatoFresh               3339 non-null float64\n",
      "tomatoImage               3340 non-null object\n",
      "tomatoMeter               3340 non-null float64\n",
      "tomatoRating              3340 non-null float64\n",
      "tomatoReviews             3340 non-null float64\n",
      "tomatoRotten              3339 non-null float64\n",
      "tomatoURL                 3464 non-null object\n",
      "tomatoUserMeter           3433 non-null float64\n",
      "tomatoUserRating          3432 non-null float64\n",
      "tomatoUserReviews         3438 non-null float64\n",
      "new_director_y_y          3508 non-null object\n",
      "dtypes: float64(30), object(52)\n",
      "memory usage: 2.4+ MB\n"
     ]
    }
   ],
   "source": [
    "final_table.info()"
   ]
  },
  {
   "cell_type": "code",
   "execution_count": 21,
   "metadata": {
    "collapsed": true
   },
   "outputs": [],
   "source": [
    "table_for_model=final_table[['new_title','Director','Genre','year_x','Actors','release_date_wide_x']]"
   ]
  },
  {
   "cell_type": "code",
   "execution_count": 19,
   "metadata": {
    "collapsed": false
   },
   "outputs": [
    {
     "name": "stdout",
     "output_type": "stream",
     "text": [
      "<class 'pandas.core.frame.DataFrame'>\n",
      "Int64Index: 3726 entries, 0 to 3725\n",
      "Data columns (total 6 columns):\n",
      "new_title              3726 non-null object\n",
      "Director               3487 non-null object\n",
      "Genre                  3505 non-null object\n",
      "year_x                 3724 non-null float64\n",
      "Actors                 3496 non-null object\n",
      "release_date_wide_x    3721 non-null object\n",
      "dtypes: float64(1), object(5)\n",
      "memory usage: 203.8+ KB\n"
     ]
    }
   ],
   "source": [
    "table_for_model.info()"
   ]
  },
  {
   "cell_type": "code",
   "execution_count": 28,
   "metadata": {
    "collapsed": false
   },
   "outputs": [],
   "source": [
    "temp=table_for_model['Director'].unique()"
   ]
  },
  {
   "cell_type": "code",
   "execution_count": 34,
   "metadata": {
    "collapsed": false
   },
   "outputs": [
    {
     "data": {
      "text/plain": [
       "u'/Users/ims002/data_camp2/team4_project1/Clean_data'"
      ]
     },
     "execution_count": 34,
     "metadata": {},
     "output_type": "execute_result"
    }
   ],
   "source": [
    "pwd\n"
   ]
  },
  {
   "cell_type": "code",
   "execution_count": 35,
   "metadata": {
    "collapsed": true
   },
   "outputs": [],
   "source": [
    "table_for_model.to_excel('data_for_model.xlsx')"
   ]
  }
 ],
 "metadata": {
  "kernelspec": {
   "display_name": "Python 2",
   "language": "python",
   "name": "python2"
  },
  "language_info": {
   "codemirror_mode": {
    "name": "ipython",
    "version": 2
   },
   "file_extension": ".py",
   "mimetype": "text/x-python",
   "name": "python",
   "nbconvert_exporter": "python",
   "pygments_lexer": "ipython2",
   "version": "2.7.11"
  }
 },
 "nbformat": 4,
 "nbformat_minor": 0
}
