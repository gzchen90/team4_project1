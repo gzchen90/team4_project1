{
 "cells": [
  {
   "cell_type": "code",
   "execution_count": 1,
   "metadata": {
    "collapsed": true
   },
   "outputs": [],
   "source": [
    "import pandas as pd\n",
    "import numpy as np\n",
    "import os\n",
    "import json\n",
    "import pprint\n",
    "from collections import Counter\n",
    "import statsmodels.formula.api as smf\n",
    "import os\n",
    "import json\n",
    "from pprint import pprint\n",
    "from collections import Counter\n",
    "%matplotlib inline\n",
    "import matplotlib.pyplot as plt\n",
    "import seaborn as sns\n",
    "import pandas as pd\n",
    "import math\n",
    "import numpy as np\n",
    "import statsmodels.api as sm"
   ]
  },
  {
   "cell_type": "code",
   "execution_count": 45,
   "metadata": {
    "collapsed": false
   },
   "outputs": [
    {
     "name": "stdout",
     "output_type": "stream",
     "text": [
      "<class 'pandas.core.frame.DataFrame'>\n",
      "Int64Index: 3233 entries, 0 to 3232\n",
      "Data columns (total 7 columns):\n",
      "title                3233 non-null object\n",
      "domestic_gross       3233 non-null int64\n",
      "director             3233 non-null object\n",
      "genre                3233 non-null object\n",
      "year                 3233 non-null int64\n",
      "actors               3233 non-null object\n",
      "release_date_wide    3233 non-null object\n",
      "dtypes: int64(2), object(5)\n",
      "memory usage: 202.1+ KB\n"
     ]
    }
   ],
   "source": [
    "table_for_model = pd.read_excel('final_data_clean.xlsx')\n",
    "table_for_model.index=range(len(table_for_model))\n",
    "table_for_model.info()"
   ]
  },
  {
   "cell_type": "markdown",
   "metadata": {},
   "source": [
    "# Actors"
   ]
  },
  {
   "cell_type": "code",
   "execution_count": 46,
   "metadata": {
    "collapsed": false
   },
   "outputs": [],
   "source": [
    "actor_df = table_for_model[[\"title\",\"actors\"]]\n",
    "double_list = [item.split(', ') for item in actor_df.actors if type(item) is unicode]\n",
    "actor_list = [item for sublist in double_list for item in sublist]\n",
    "actor_count = Counter(actor_list)\n",
    "top_actors_and_counts = actor_count.most_common(400)\n",
    "top_actors = [item[0] for item in top_actors_and_counts if item[0] is not float]\n",
    "top_actors\n",
    "\n",
    "\n",
    "for i in range(len(actor_df)):\n",
    "        list_of_actors = actor_df.loc[i,'actors'].split(\", \")\n",
    "        for actor in list_of_actors:\n",
    "            if actor in top_actors:\n",
    "                actor_df.loc[i,'Top Actor'] = 1\n",
    "                break\n",
    "            else:\n",
    "                actor_df.loc[i,'Top Actor'] = 0"
   ]
  },
  {
   "cell_type": "code",
   "execution_count": 61,
   "metadata": {
    "collapsed": false
   },
   "outputs": [
    {
     "name": "stdout",
     "output_type": "stream",
     "text": [
      "<class 'pandas.core.frame.DataFrame'>\n",
      "Int64Index: 3233 entries, 0 to 3232\n",
      "Data columns (total 3 columns):\n",
      "title        3233 non-null object\n",
      "actors       3233 non-null object\n",
      "Top Actor    3233 non-null float64\n",
      "dtypes: float64(1), object(2)\n",
      "memory usage: 101.0+ KB\n"
     ]
    }
   ],
   "source": [
    "actor_df.info()"
   ]
  },
  {
   "cell_type": "markdown",
   "metadata": {},
   "source": [
    "# Directors"
   ]
  },
  {
   "cell_type": "code",
   "execution_count": 48,
   "metadata": {
    "collapsed": false
   },
   "outputs": [
    {
     "name": "stdout",
     "output_type": "stream",
     "text": [
      "<class 'pandas.core.frame.DataFrame'>\n",
      "Int64Index: 3233 entries, 0 to 3232\n",
      "Data columns (total 2 columns):\n",
      "title       3233 non-null object\n",
      "director    3233 non-null object\n",
      "dtypes: object(2)\n",
      "memory usage: 75.8+ KB\n",
      "<class 'pandas.core.frame.DataFrame'>\n",
      "Int64Index: 3233 entries, 0 to 3232\n",
      "Data columns (total 3 columns):\n",
      "title           3233 non-null object\n",
      "director        3233 non-null object\n",
      "Top Director    3233 non-null bool\n",
      "dtypes: bool(1), object(2)\n",
      "memory usage: 78.9+ KB\n"
     ]
    },
    {
     "name": "stderr",
     "output_type": "stream",
     "text": [
      "/anaconda/lib/python2.7/site-packages/ipykernel/__main__.py:10: SettingWithCopyWarning: \n",
      "A value is trying to be set on a copy of a slice from a DataFrame.\n",
      "Try using .loc[row_indexer,col_indexer] = value instead\n",
      "\n",
      "See the caveats in the documentation: http://pandas.pydata.org/pandas-docs/stable/indexing.html#indexing-view-versus-copy\n"
     ]
    }
   ],
   "source": [
    "director_df = table_for_model[['title','director']]\n",
    "director_df.info()\n",
    "\n",
    "from collections import Counter\n",
    "Counter(table_for_model.director).most_common(100)\n",
    "top_directors_and_counts =  list(Counter(table_for_model.director).most_common(100))\n",
    "top_directors = [item[0] for item in top_directors_and_counts if item[0] is not float]\n",
    "top_directors\n",
    "\n",
    "director_df[\"Top Director\"] = director_df.director.isin(top_directors)\n",
    "director_df.info()"
   ]
  },
  {
   "cell_type": "markdown",
   "metadata": {},
   "source": [
    "# Genres"
   ]
  },
  {
   "cell_type": "code",
   "execution_count": 56,
   "metadata": {
    "collapsed": false
   },
   "outputs": [
    {
     "name": "stdout",
     "output_type": "stream",
     "text": [
      "23\n"
     ]
    }
   ],
   "source": [
    "table_for_model['genre']\n",
    "\n",
    "features = [feature for feature in table_for_model['genre']]\n",
    "# genres = [[item for sublist in features if sublist.split() is not np.nan for item in sublist]]\n",
    "genres = [item.split(', ') for item in features if type(item) is unicode]\n",
    "genres = [item for sublist in genres for item in sublist]\n",
    "genres = set(genres)\n",
    "\n",
    "print len(genres)\n",
    "genre_df = pd.DataFrame()\n",
    "genre_df['genre'] = table_for_model.loc[:,'genre']"
   ]
  },
  {
   "cell_type": "code",
   "execution_count": 57,
   "metadata": {
    "collapsed": true
   },
   "outputs": [],
   "source": [
    "new_df=pd.DataFrame([1,2,3])\n",
    "for i in range(len(table_for_model)):\n",
    "    try:\n",
    "        new_df=pd.concat([new_df,pd.DataFrame(table_for_model.genre[i].split(', '))],axis=1)\n",
    "    except:\n",
    "        new_df=pd.concat([new_df,pd.DataFrame([np.nan,np.nan,np.nan])],axis=1)\n",
    "new_df=new_df.T"
   ]
  },
  {
   "cell_type": "code",
   "execution_count": 58,
   "metadata": {
    "collapsed": false
   },
   "outputs": [
    {
     "data": {
      "text/html": [
       "<div>\n",
       "<table border=\"1\" class=\"dataframe\">\n",
       "  <thead>\n",
       "    <tr style=\"text-align: right;\">\n",
       "      <th></th>\n",
       "      <th>G1</th>\n",
       "      <th>G2</th>\n",
       "      <th>G3</th>\n",
       "    </tr>\n",
       "  </thead>\n",
       "  <tbody>\n",
       "    <tr>\n",
       "      <th>1</th>\n",
       "      <td>Action</td>\n",
       "      <td>Adventure</td>\n",
       "      <td>Drama</td>\n",
       "    </tr>\n",
       "    <tr>\n",
       "      <th>2</th>\n",
       "      <td>Adventure</td>\n",
       "      <td>Comedy</td>\n",
       "      <td>Family</td>\n",
       "    </tr>\n",
       "    <tr>\n",
       "      <th>3</th>\n",
       "      <td>Comedy</td>\n",
       "      <td>Drama</td>\n",
       "      <td>Romance</td>\n",
       "    </tr>\n",
       "    <tr>\n",
       "      <th>4</th>\n",
       "      <td>Comedy</td>\n",
       "      <td>Drama</td>\n",
       "      <td>Romance</td>\n",
       "    </tr>\n",
       "    <tr>\n",
       "      <th>5</th>\n",
       "      <td>Drama</td>\n",
       "      <td>NaN</td>\n",
       "      <td>NaN</td>\n",
       "    </tr>\n",
       "  </tbody>\n",
       "</table>\n",
       "</div>"
      ],
      "text/plain": [
       "          G1         G2       G3\n",
       "1     Action  Adventure    Drama\n",
       "2  Adventure     Comedy   Family\n",
       "3     Comedy      Drama  Romance\n",
       "4     Comedy      Drama  Romance\n",
       "5      Drama        NaN      NaN"
      ]
     },
     "execution_count": 58,
     "metadata": {},
     "output_type": "execute_result"
    }
   ],
   "source": [
    "new_df.index=range(len(new_df))\n",
    "#mojo_our=mojo_our.drop(mojo_our.index[[1432,2794,2803]])\n",
    "new_df=new_df.drop(new_df.index[[0]])\n",
    "new_df.columns=['G1','G2','G3']\n",
    "new_df.head()"
   ]
  },
  {
   "cell_type": "code",
   "execution_count": 59,
   "metadata": {
    "collapsed": false
   },
   "outputs": [
    {
     "data": {
      "text/html": [
       "<div>\n",
       "<table border=\"1\" class=\"dataframe\">\n",
       "  <thead>\n",
       "    <tr style=\"text-align: right;\">\n",
       "      <th></th>\n",
       "      <th>genre</th>\n",
       "      <th>G1</th>\n",
       "      <th>G2</th>\n",
       "      <th>G3</th>\n",
       "      <th>Sci-Fi</th>\n",
       "      <th>Crime</th>\n",
       "      <th>Romance</th>\n",
       "      <th>Animation</th>\n",
       "      <th>Music</th>\n",
       "      <th>Comedy</th>\n",
       "      <th>...</th>\n",
       "      <th>Short</th>\n",
       "      <th>Drama</th>\n",
       "      <th>Action</th>\n",
       "      <th>Documentary</th>\n",
       "      <th>Musical</th>\n",
       "      <th>History</th>\n",
       "      <th>Family</th>\n",
       "      <th>Fantasy</th>\n",
       "      <th>Sport</th>\n",
       "      <th>Biography</th>\n",
       "    </tr>\n",
       "  </thead>\n",
       "  <tbody>\n",
       "    <tr>\n",
       "      <th>0</th>\n",
       "      <td>Action, Adventure, Drama</td>\n",
       "      <td>Action</td>\n",
       "      <td>Adventure</td>\n",
       "      <td>Drama</td>\n",
       "      <td>0</td>\n",
       "      <td>0</td>\n",
       "      <td>0</td>\n",
       "      <td>0</td>\n",
       "      <td>0</td>\n",
       "      <td>0</td>\n",
       "      <td>...</td>\n",
       "      <td>0</td>\n",
       "      <td>1</td>\n",
       "      <td>1</td>\n",
       "      <td>0</td>\n",
       "      <td>0</td>\n",
       "      <td>0</td>\n",
       "      <td>0</td>\n",
       "      <td>0</td>\n",
       "      <td>0</td>\n",
       "      <td>0</td>\n",
       "    </tr>\n",
       "    <tr>\n",
       "      <th>1</th>\n",
       "      <td>Adventure, Comedy, Family</td>\n",
       "      <td>Adventure</td>\n",
       "      <td>Comedy</td>\n",
       "      <td>Family</td>\n",
       "      <td>0</td>\n",
       "      <td>0</td>\n",
       "      <td>0</td>\n",
       "      <td>0</td>\n",
       "      <td>0</td>\n",
       "      <td>1</td>\n",
       "      <td>...</td>\n",
       "      <td>0</td>\n",
       "      <td>0</td>\n",
       "      <td>0</td>\n",
       "      <td>0</td>\n",
       "      <td>0</td>\n",
       "      <td>0</td>\n",
       "      <td>1</td>\n",
       "      <td>0</td>\n",
       "      <td>0</td>\n",
       "      <td>0</td>\n",
       "    </tr>\n",
       "    <tr>\n",
       "      <th>2</th>\n",
       "      <td>Comedy, Drama, Romance</td>\n",
       "      <td>Comedy</td>\n",
       "      <td>Drama</td>\n",
       "      <td>Romance</td>\n",
       "      <td>0</td>\n",
       "      <td>0</td>\n",
       "      <td>1</td>\n",
       "      <td>0</td>\n",
       "      <td>0</td>\n",
       "      <td>1</td>\n",
       "      <td>...</td>\n",
       "      <td>0</td>\n",
       "      <td>1</td>\n",
       "      <td>0</td>\n",
       "      <td>0</td>\n",
       "      <td>0</td>\n",
       "      <td>0</td>\n",
       "      <td>0</td>\n",
       "      <td>0</td>\n",
       "      <td>0</td>\n",
       "      <td>0</td>\n",
       "    </tr>\n",
       "    <tr>\n",
       "      <th>3</th>\n",
       "      <td>Comedy, Drama, Romance</td>\n",
       "      <td>Comedy</td>\n",
       "      <td>Drama</td>\n",
       "      <td>Romance</td>\n",
       "      <td>0</td>\n",
       "      <td>0</td>\n",
       "      <td>1</td>\n",
       "      <td>0</td>\n",
       "      <td>0</td>\n",
       "      <td>1</td>\n",
       "      <td>...</td>\n",
       "      <td>0</td>\n",
       "      <td>1</td>\n",
       "      <td>0</td>\n",
       "      <td>0</td>\n",
       "      <td>0</td>\n",
       "      <td>0</td>\n",
       "      <td>0</td>\n",
       "      <td>0</td>\n",
       "      <td>0</td>\n",
       "      <td>0</td>\n",
       "    </tr>\n",
       "    <tr>\n",
       "      <th>4</th>\n",
       "      <td>Drama</td>\n",
       "      <td>Drama</td>\n",
       "      <td>NaN</td>\n",
       "      <td>NaN</td>\n",
       "      <td>0</td>\n",
       "      <td>0</td>\n",
       "      <td>0</td>\n",
       "      <td>0</td>\n",
       "      <td>0</td>\n",
       "      <td>0</td>\n",
       "      <td>...</td>\n",
       "      <td>0</td>\n",
       "      <td>1</td>\n",
       "      <td>0</td>\n",
       "      <td>0</td>\n",
       "      <td>0</td>\n",
       "      <td>0</td>\n",
       "      <td>0</td>\n",
       "      <td>0</td>\n",
       "      <td>0</td>\n",
       "      <td>0</td>\n",
       "    </tr>\n",
       "  </tbody>\n",
       "</table>\n",
       "<p>5 rows × 27 columns</p>\n",
       "</div>"
      ],
      "text/plain": [
       "                       genre         G1         G2       G3  Sci-Fi  Crime  \\\n",
       "0   Action, Adventure, Drama     Action  Adventure    Drama       0      0   \n",
       "1  Adventure, Comedy, Family  Adventure     Comedy   Family       0      0   \n",
       "2     Comedy, Drama, Romance     Comedy      Drama  Romance       0      0   \n",
       "3     Comedy, Drama, Romance     Comedy      Drama  Romance       0      0   \n",
       "4                      Drama      Drama        NaN      NaN       0      0   \n",
       "\n",
       "   Romance  Animation  Music  Comedy    ...      Short  Drama  Action  \\\n",
       "0        0          0      0       0    ...          0      1       1   \n",
       "1        0          0      0       1    ...          0      0       0   \n",
       "2        1          0      0       1    ...          0      1       0   \n",
       "3        1          0      0       1    ...          0      1       0   \n",
       "4        0          0      0       0    ...          0      1       0   \n",
       "\n",
       "   Documentary  Musical  History  Family  Fantasy  Sport  Biography  \n",
       "0            0        0        0       0        0      0          0  \n",
       "1            0        0        0       1        0      0          0  \n",
       "2            0        0        0       0        0      0          0  \n",
       "3            0        0        0       0        0      0          0  \n",
       "4            0        0        0       0        0      0          0  \n",
       "\n",
       "[5 rows x 27 columns]"
      ]
     },
     "execution_count": 59,
     "metadata": {},
     "output_type": "execute_result"
    }
   ],
   "source": [
    "new_df.index=range(len(new_df))\n",
    "final_gener=pd.concat([genre_df,new_df],axis=1)\n",
    "#final_gener.head()\n",
    "for i in range(len(final_gener)):\n",
    "    for gen in genres:\n",
    "        if final_gener.loc[i,'G1']==gen: \n",
    "            final_gener.loc[i,str(gen)]=1\n",
    "        elif final_gener.loc[i,'G2']==gen:\n",
    "            final_gener.loc[i,str(gen)]=1\n",
    "        elif final_gener.loc[i,'G3']==gen:\n",
    "            final_gener.loc[i,str(gen)]=1\n",
    "        else:\n",
    "            final_gener.loc[i,str(gen)]=0\n",
    "final_gener.head()"
   ]
  },
  {
   "cell_type": "code",
   "execution_count": 60,
   "metadata": {
    "collapsed": false
   },
   "outputs": [
    {
     "name": "stdout",
     "output_type": "stream",
     "text": [
      "<class 'pandas.core.frame.DataFrame'>\n",
      "Int64Index: 3233 entries, 0 to 3232\n",
      "Data columns (total 27 columns):\n",
      "genre          3233 non-null object\n",
      "G1             3233 non-null object\n",
      "G2             2747 non-null object\n",
      "G3             1790 non-null object\n",
      "Sci-Fi         3233 non-null float64\n",
      "Crime          3233 non-null float64\n",
      "Romance        3233 non-null float64\n",
      "Animation      3233 non-null float64\n",
      "Music          3233 non-null float64\n",
      "Comedy         3233 non-null float64\n",
      "War            3233 non-null float64\n",
      "Horror         3233 non-null float64\n",
      "Adventure      3233 non-null float64\n",
      "News           3233 non-null float64\n",
      "Thriller       3233 non-null float64\n",
      "Western        3233 non-null float64\n",
      "Mystery        3233 non-null float64\n",
      "Short          3233 non-null float64\n",
      "Drama          3233 non-null float64\n",
      "Action         3233 non-null float64\n",
      "Documentary    3233 non-null float64\n",
      "Musical        3233 non-null float64\n",
      "History        3233 non-null float64\n",
      "Family         3233 non-null float64\n",
      "Fantasy        3233 non-null float64\n",
      "Sport          3233 non-null float64\n",
      "Biography      3233 non-null float64\n",
      "dtypes: float64(23), object(4)\n",
      "memory usage: 707.2+ KB\n"
     ]
    }
   ],
   "source": [
    "final_gener.info()"
   ]
  },
  {
   "cell_type": "markdown",
   "metadata": {},
   "source": [
    "# Merging"
   ]
  },
  {
   "cell_type": "code",
   "execution_count": 63,
   "metadata": {
    "collapsed": false
   },
   "outputs": [
    {
     "name": "stdout",
     "output_type": "stream",
     "text": [
      "<class 'pandas.core.frame.DataFrame'>\n",
      "Int64Index: 3233 entries, 0 to 3232\n",
      "Data columns (total 2 columns):\n",
      "year              3233 non-null int64\n",
      "domestic_gross    3233 non-null int64\n",
      "dtypes: int64(2)\n",
      "memory usage: 75.8 KB\n"
     ]
    }
   ],
   "source": [
    "remaning_feature=table_for_model[['year','domestic_gross']]\n",
    "remaning_feature.info()"
   ]
  },
  {
   "cell_type": "code",
   "execution_count": 68,
   "metadata": {
    "collapsed": false
   },
   "outputs": [
    {
     "name": "stdout",
     "output_type": "stream",
     "text": [
      "<class 'pandas.core.frame.DataFrame'>\n",
      "Int64Index: 3233 entries, 0 to 3232\n",
      "Data columns (total 35 columns):\n",
      "title             3233 non-null title    object\n",
      "title    object\n",
      "dtype: object\n",
      "actors            3233 non-null object\n",
      "Top Actor         3233 non-null float64\n",
      "title             3233 non-null title    object\n",
      "title    object\n",
      "dtype: object\n",
      "director          3233 non-null object\n",
      "Top Director      3233 non-null bool\n",
      "genre             3233 non-null object\n",
      "G1                3233 non-null object\n",
      "G2                2747 non-null object\n",
      "G3                1790 non-null object\n",
      "Sci-Fi            3233 non-null float64\n",
      "Crime             3233 non-null float64\n",
      "Romance           3233 non-null float64\n",
      "Animation         3233 non-null float64\n",
      "Music             3233 non-null float64\n",
      "Comedy            3233 non-null float64\n",
      "War               3233 non-null float64\n",
      "Horror            3233 non-null float64\n",
      "Adventure         3233 non-null float64\n",
      "News              3233 non-null float64\n",
      "Thriller          3233 non-null float64\n",
      "Western           3233 non-null float64\n",
      "Mystery           3233 non-null float64\n",
      "Short             3233 non-null float64\n",
      "Drama             3233 non-null float64\n",
      "Action            3233 non-null float64\n",
      "Documentary       3233 non-null float64\n",
      "Musical           3233 non-null float64\n",
      "History           3233 non-null float64\n",
      "Family            3233 non-null float64\n",
      "Fantasy           3233 non-null float64\n",
      "Sport             3233 non-null float64\n",
      "Biography         3233 non-null float64\n",
      "year              3233 non-null int64\n",
      "domestic_gross    3233 non-null int64\n",
      "dtypes: bool(1), float64(24), int64(2), object(8)\n",
      "memory usage: 887.2+ KB\n"
     ]
    }
   ],
   "source": [
    "table1 = pd.concat([actor_df,director_df],axis=1)\n",
    "table2=pd.concat([table1,final_gener],axis=1)\n",
    "final_table=pd.concat([table2,remaning_feature],axis=1)\n",
    "final_table.info()"
   ]
  },
  {
   "cell_type": "code",
   "execution_count": 71,
   "metadata": {
    "collapsed": false
   },
   "outputs": [],
   "source": [
    "l1=final_table.columns\n",
    "l1=set(l1)"
   ]
  },
  {
   "cell_type": "code",
   "execution_count": 79,
   "metadata": {
    "collapsed": false
   },
   "outputs": [],
   "source": [
    "l2=set(['G1','G2','G3','genre','director','actors'])\n",
    "l3=list(l1-l2)"
   ]
  },
  {
   "cell_type": "code",
   "execution_count": 81,
   "metadata": {
    "collapsed": false
   },
   "outputs": [],
   "source": [
    "model_table=final_table[l3]\n",
    "model_table.to_excel('model_table.xlsx')"
   ]
  },
  {
   "cell_type": "code",
   "execution_count": 126,
   "metadata": {
    "collapsed": false
   },
   "outputs": [
    {
     "data": {
      "text/html": [
       "<div>\n",
       "<table border=\"1\" class=\"dataframe\">\n",
       "  <thead>\n",
       "    <tr style=\"text-align: right;\">\n",
       "      <th></th>\n",
       "      <th>Top Actor</th>\n",
       "      <th>Sci-Fi</th>\n",
       "      <th>Crime</th>\n",
       "      <th>Romance</th>\n",
       "      <th>Animation</th>\n",
       "      <th>Music</th>\n",
       "      <th>year</th>\n",
       "      <th>Comedy</th>\n",
       "      <th>War</th>\n",
       "      <th>title</th>\n",
       "      <th>...</th>\n",
       "      <th>Drama</th>\n",
       "      <th>Top Director</th>\n",
       "      <th>Action</th>\n",
       "      <th>Documentary</th>\n",
       "      <th>Musical</th>\n",
       "      <th>domestic_gross</th>\n",
       "      <th>Family</th>\n",
       "      <th>Fantasy</th>\n",
       "      <th>Sport</th>\n",
       "      <th>Biography</th>\n",
       "    </tr>\n",
       "  </thead>\n",
       "  <tbody>\n",
       "    <tr>\n",
       "      <th>0</th>\n",
       "      <td>0</td>\n",
       "      <td>0</td>\n",
       "      <td>0</td>\n",
       "      <td>0</td>\n",
       "      <td>0</td>\n",
       "      <td>0</td>\n",
       "      <td>2008</td>\n",
       "      <td>0</td>\n",
       "      <td>0</td>\n",
       "      <td>10000bc</td>\n",
       "      <td>...</td>\n",
       "      <td>1</td>\n",
       "      <td>True</td>\n",
       "      <td>1</td>\n",
       "      <td>0</td>\n",
       "      <td>0</td>\n",
       "      <td>94784201</td>\n",
       "      <td>0</td>\n",
       "      <td>0</td>\n",
       "      <td>0</td>\n",
       "      <td>0</td>\n",
       "    </tr>\n",
       "    <tr>\n",
       "      <th>1</th>\n",
       "      <td>1</td>\n",
       "      <td>0</td>\n",
       "      <td>0</td>\n",
       "      <td>0</td>\n",
       "      <td>0</td>\n",
       "      <td>0</td>\n",
       "      <td>2000</td>\n",
       "      <td>1</td>\n",
       "      <td>0</td>\n",
       "      <td>102dalmatians</td>\n",
       "      <td>...</td>\n",
       "      <td>0</td>\n",
       "      <td>False</td>\n",
       "      <td>0</td>\n",
       "      <td>0</td>\n",
       "      <td>0</td>\n",
       "      <td>66957026</td>\n",
       "      <td>1</td>\n",
       "      <td>0</td>\n",
       "      <td>0</td>\n",
       "      <td>0</td>\n",
       "    </tr>\n",
       "    <tr>\n",
       "      <th>2</th>\n",
       "      <td>1</td>\n",
       "      <td>0</td>\n",
       "      <td>0</td>\n",
       "      <td>1</td>\n",
       "      <td>0</td>\n",
       "      <td>0</td>\n",
       "      <td>1999</td>\n",
       "      <td>1</td>\n",
       "      <td>0</td>\n",
       "      <td>10thingsihateaboutyou</td>\n",
       "      <td>...</td>\n",
       "      <td>1</td>\n",
       "      <td>False</td>\n",
       "      <td>0</td>\n",
       "      <td>0</td>\n",
       "      <td>0</td>\n",
       "      <td>38178166</td>\n",
       "      <td>0</td>\n",
       "      <td>0</td>\n",
       "      <td>0</td>\n",
       "      <td>0</td>\n",
       "    </tr>\n",
       "    <tr>\n",
       "      <th>3</th>\n",
       "      <td>1</td>\n",
       "      <td>0</td>\n",
       "      <td>0</td>\n",
       "      <td>1</td>\n",
       "      <td>0</td>\n",
       "      <td>0</td>\n",
       "      <td>2012</td>\n",
       "      <td>1</td>\n",
       "      <td>0</td>\n",
       "      <td>10years</td>\n",
       "      <td>...</td>\n",
       "      <td>1</td>\n",
       "      <td>False</td>\n",
       "      <td>0</td>\n",
       "      <td>0</td>\n",
       "      <td>0</td>\n",
       "      <td>203373</td>\n",
       "      <td>0</td>\n",
       "      <td>0</td>\n",
       "      <td>0</td>\n",
       "      <td>0</td>\n",
       "    </tr>\n",
       "    <tr>\n",
       "      <th>4</th>\n",
       "      <td>0</td>\n",
       "      <td>0</td>\n",
       "      <td>0</td>\n",
       "      <td>0</td>\n",
       "      <td>0</td>\n",
       "      <td>0</td>\n",
       "      <td>2013</td>\n",
       "      <td>0</td>\n",
       "      <td>0</td>\n",
       "      <td>11flowers</td>\n",
       "      <td>...</td>\n",
       "      <td>1</td>\n",
       "      <td>False</td>\n",
       "      <td>0</td>\n",
       "      <td>0</td>\n",
       "      <td>0</td>\n",
       "      <td>9213</td>\n",
       "      <td>0</td>\n",
       "      <td>0</td>\n",
       "      <td>0</td>\n",
       "      <td>0</td>\n",
       "    </tr>\n",
       "  </tbody>\n",
       "</table>\n",
       "<p>5 rows × 29 columns</p>\n",
       "</div>"
      ],
      "text/plain": [
       "   Top Actor  Sci-Fi  Crime  Romance  Animation  Music  year  Comedy  War  \\\n",
       "0          0       0      0        0          0      0  2008       0    0   \n",
       "1          1       0      0        0          0      0  2000       1    0   \n",
       "2          1       0      0        1          0      0  1999       1    0   \n",
       "3          1       0      0        1          0      0  2012       1    0   \n",
       "4          0       0      0        0          0      0  2013       0    0   \n",
       "\n",
       "                   title    ...     Drama  Top Director  Action  Documentary  \\\n",
       "0                10000bc    ...         1          True       1            0   \n",
       "1          102dalmatians    ...         0         False       0            0   \n",
       "2  10thingsihateaboutyou    ...         1         False       0            0   \n",
       "3                10years    ...         1         False       0            0   \n",
       "4              11flowers    ...         1         False       0            0   \n",
       "\n",
       "   Musical  domestic_gross  Family  Fantasy  Sport  Biography  \n",
       "0        0        94784201       0        0      0          0  \n",
       "1        0        66957026       1        0      0          0  \n",
       "2        0        38178166       0        0      0          0  \n",
       "3        0          203373       0        0      0          0  \n",
       "4        0            9213       0        0      0          0  \n",
       "\n",
       "[5 rows x 29 columns]"
      ]
     },
     "execution_count": 126,
     "metadata": {},
     "output_type": "execute_result"
    }
   ],
   "source": [
    "model_table.head()"
   ]
  },
  {
   "cell_type": "code",
   "execution_count": 82,
   "metadata": {
    "collapsed": false
   },
   "outputs": [
    {
     "data": {
      "text/plain": [
       "u'/Users/rdc046/Desktop/team4_project1/team4_project1/raw_data'"
      ]
     },
     "execution_count": 82,
     "metadata": {},
     "output_type": "execute_result"
    }
   ],
   "source": [
    "pwd"
   ]
  },
  {
   "cell_type": "code",
   "execution_count": 83,
   "metadata": {
    "collapsed": true
   },
   "outputs": [],
   "source": [
    "#split the data into train(0.75) and test(0.25)\n",
    "from sklearn.cross_validation import train_test_split\n",
    "train, test = train_test_split(model_table, test_size = 0.25)"
   ]
  },
  {
   "cell_type": "code",
   "execution_count": 88,
   "metadata": {
    "collapsed": false
   },
   "outputs": [],
   "source": [
    "#fit lasso CV model\n",
    "#predictor_list is the list of variables that we want to use for modelling\n",
    "#here I get it from the column names -predictors and movie title. you\n",
    "#can create your own directly from the name list\n",
    "predictor_list = list(train.columns.values)\n",
    "predictor_list.remove('domestic_gross')\n",
    "predictor_list.remove('title')\n",
    "predictor_list.remove('title')"
   ]
  },
  {
   "cell_type": "code",
   "execution_count": 91,
   "metadata": {
    "collapsed": false
   },
   "outputs": [],
   "source": [
    "#fit the lasso model, which get selection and estimation at one step.\n",
    "#if you want to see which variable is significant, there is an easy way:\n",
    "#just look at the coefficients, greater than 0 means that it is used for prediction\n",
    "\n",
    "from sklearn.linear_model import LassoCV\n",
    "clf = LassoCV(cv=20).fit(train[predictor_list],train.domestic_gross)\n",
    "Y_pred = clf.predict(test[predictor_list])\n",
    "\n",
    "\n"
   ]
  },
  {
   "cell_type": "code",
   "execution_count": 94,
   "metadata": {
    "collapsed": false
   },
   "outputs": [
    {
     "name": "stdout",
     "output_type": "stream",
     "text": [
      "[ 24948879.28883447  14743721.37371736  -6442580.48915141\n",
      "   1266242.81140408  27882393.29100273        -0.           -974183.98583626\n",
      "        -0.                -0.          -6503504.27564067\n",
      "  26178465.61410237         0.            427041.58008877\n",
      "  -2752435.99988513        -0.                -0.                 0.\n",
      " -13517821.94222899  20843906.30519133  14101080.43734857\n",
      "  -9749380.63567394  19879182.78291661   7307000.67157429\n",
      "   4586394.70214889        -0.                 0.        ]\n",
      "2.68276296046e+15\n"
     ]
    }
   ],
   "source": [
    "print(clf.coef_)\n",
    "\n",
    "#calculate the mean_squared_error\n",
    "from sklearn.metrics import mean_squared_error\n",
    "print mean_squared_error(Y_pred, test.domestic_gross)"
   ]
  },
  {
   "cell_type": "code",
   "execution_count": 102,
   "metadata": {
    "collapsed": false
   },
   "outputs": [
    {
     "name": "stderr",
     "output_type": "stream",
     "text": [
      "/anaconda/lib/python2.7/site-packages/ipykernel/__main__.py:1: FutureWarning: sort(columns=....) is deprecated, use sort_values(by=.....)\n",
      "  if __name__ == '__main__':\n"
     ]
    },
    {
     "data": {
      "text/html": [
       "<div>\n",
       "<table border=\"1\" class=\"dataframe\">\n",
       "  <thead>\n",
       "    <tr style=\"text-align: right;\">\n",
       "      <th></th>\n",
       "      <th>0</th>\n",
       "      <th>1</th>\n",
       "    </tr>\n",
       "  </thead>\n",
       "  <tbody>\n",
       "    <tr>\n",
       "      <th>17</th>\n",
       "      <td>-1.35178e+07</td>\n",
       "      <td>Drama</td>\n",
       "    </tr>\n",
       "    <tr>\n",
       "      <th>20</th>\n",
       "      <td>-9.74938e+06</td>\n",
       "      <td>Documentary</td>\n",
       "    </tr>\n",
       "    <tr>\n",
       "      <th>9</th>\n",
       "      <td>-6.5035e+06</td>\n",
       "      <td>Horror</td>\n",
       "    </tr>\n",
       "    <tr>\n",
       "      <th>2</th>\n",
       "      <td>-6.44258e+06</td>\n",
       "      <td>Crime</td>\n",
       "    </tr>\n",
       "    <tr>\n",
       "      <th>13</th>\n",
       "      <td>-2.75244e+06</td>\n",
       "      <td>Thriller</td>\n",
       "    </tr>\n",
       "    <tr>\n",
       "      <th>6</th>\n",
       "      <td>-974184</td>\n",
       "      <td>year</td>\n",
       "    </tr>\n",
       "    <tr>\n",
       "      <th>25</th>\n",
       "      <td>0</td>\n",
       "      <td>Biography</td>\n",
       "    </tr>\n",
       "    <tr>\n",
       "      <th>16</th>\n",
       "      <td>0</td>\n",
       "      <td>Short</td>\n",
       "    </tr>\n",
       "    <tr>\n",
       "      <th>5</th>\n",
       "      <td>-0</td>\n",
       "      <td>Music</td>\n",
       "    </tr>\n",
       "    <tr>\n",
       "      <th>7</th>\n",
       "      <td>-0</td>\n",
       "      <td>Comedy</td>\n",
       "    </tr>\n",
       "    <tr>\n",
       "      <th>8</th>\n",
       "      <td>-0</td>\n",
       "      <td>War</td>\n",
       "    </tr>\n",
       "    <tr>\n",
       "      <th>15</th>\n",
       "      <td>-0</td>\n",
       "      <td>Mystery</td>\n",
       "    </tr>\n",
       "    <tr>\n",
       "      <th>11</th>\n",
       "      <td>0</td>\n",
       "      <td>News</td>\n",
       "    </tr>\n",
       "    <tr>\n",
       "      <th>24</th>\n",
       "      <td>-0</td>\n",
       "      <td>Sport</td>\n",
       "    </tr>\n",
       "    <tr>\n",
       "      <th>14</th>\n",
       "      <td>-0</td>\n",
       "      <td>Western</td>\n",
       "    </tr>\n",
       "    <tr>\n",
       "      <th>12</th>\n",
       "      <td>427042</td>\n",
       "      <td>History</td>\n",
       "    </tr>\n",
       "    <tr>\n",
       "      <th>3</th>\n",
       "      <td>1.26624e+06</td>\n",
       "      <td>Romance</td>\n",
       "    </tr>\n",
       "    <tr>\n",
       "      <th>23</th>\n",
       "      <td>4.58639e+06</td>\n",
       "      <td>Fantasy</td>\n",
       "    </tr>\n",
       "    <tr>\n",
       "      <th>22</th>\n",
       "      <td>7.307e+06</td>\n",
       "      <td>Family</td>\n",
       "    </tr>\n",
       "    <tr>\n",
       "      <th>19</th>\n",
       "      <td>1.41011e+07</td>\n",
       "      <td>Action</td>\n",
       "    </tr>\n",
       "    <tr>\n",
       "      <th>1</th>\n",
       "      <td>1.47437e+07</td>\n",
       "      <td>Sci-Fi</td>\n",
       "    </tr>\n",
       "    <tr>\n",
       "      <th>21</th>\n",
       "      <td>1.98792e+07</td>\n",
       "      <td>Musical</td>\n",
       "    </tr>\n",
       "    <tr>\n",
       "      <th>18</th>\n",
       "      <td>2.08439e+07</td>\n",
       "      <td>Top Director</td>\n",
       "    </tr>\n",
       "    <tr>\n",
       "      <th>0</th>\n",
       "      <td>2.49489e+07</td>\n",
       "      <td>Top Actor</td>\n",
       "    </tr>\n",
       "    <tr>\n",
       "      <th>10</th>\n",
       "      <td>2.61785e+07</td>\n",
       "      <td>Adventure</td>\n",
       "    </tr>\n",
       "    <tr>\n",
       "      <th>4</th>\n",
       "      <td>2.78824e+07</td>\n",
       "      <td>Animation</td>\n",
       "    </tr>\n",
       "  </tbody>\n",
       "</table>\n",
       "</div>"
      ],
      "text/plain": [
       "              0             1\n",
       "17 -1.35178e+07         Drama\n",
       "20 -9.74938e+06   Documentary\n",
       "9   -6.5035e+06        Horror\n",
       "2  -6.44258e+06         Crime\n",
       "13 -2.75244e+06      Thriller\n",
       "6       -974184          year\n",
       "25            0     Biography\n",
       "16            0         Short\n",
       "5            -0         Music\n",
       "7            -0        Comedy\n",
       "8            -0           War\n",
       "15           -0       Mystery\n",
       "11            0          News\n",
       "24           -0         Sport\n",
       "14           -0       Western\n",
       "12       427042       History\n",
       "3   1.26624e+06       Romance\n",
       "23  4.58639e+06       Fantasy\n",
       "22    7.307e+06        Family\n",
       "19  1.41011e+07        Action\n",
       "1   1.47437e+07        Sci-Fi\n",
       "21  1.98792e+07       Musical\n",
       "18  2.08439e+07  Top Director\n",
       "0   2.49489e+07     Top Actor\n",
       "10  2.61785e+07     Adventure\n",
       "4   2.78824e+07     Animation"
      ]
     },
     "execution_count": 102,
     "metadata": {},
     "output_type": "execute_result"
    }
   ],
   "source": [
    "pd.DataFrame([clf.coef_,predictor_list]).T.sort()"
   ]
  },
  {
   "cell_type": "code",
   "execution_count": 125,
   "metadata": {
    "collapsed": false
   },
   "outputs": [
    {
     "data": {
      "text/plain": [
       "(-25000000.0, 200000000.0)"
      ]
     },
     "execution_count": 125,
     "metadata": {},
     "output_type": "execute_result"
    },
    {
     "data": {
      "image/png": "[encoded data removed]",
      "text/plain": [
       "<matplotlib.figure.Figure at 0x11f5e0710>"
      ]
     },
     "metadata": {},
     "output_type": "display_data"
    }
   ],
   "source": [
    "plt.scatter(test.domestic_gross,Y_pred)\n",
    "plt.xlabel(\"Actual Domestic Gross\")\n",
    "plt.ylabel(\"Predicted Domestic Gross\")\n",
    "plt.plot(test.domestic_gross,test.domestic_gross)\n",
    "plt.ylim([-.25e8,2e8])\n",
    "plt.title()\n"
   ]
  },
  {
   "cell_type": "code",
   "execution_count": 103,
   "metadata": {
    "collapsed": false
   },
   "outputs": [
    {
     "ename": "AttributeError",
     "evalue": "'DataFrame' object has no attribute 'plt'",
     "output_type": "error",
     "traceback": [
      "\u001b[0;31m---------------------------------------------------------------------------\u001b[0m",
      "\u001b[0;31mAttributeError\u001b[0m                            Traceback (most recent call last)",
      "\u001b[0;32m<ipython-input-103-8b0361245679>\u001b[0m in \u001b[0;36m<module>\u001b[0;34m()\u001b[0m\n\u001b[0;32m----> 1\u001b[0;31m \u001b[0mmodel_table\u001b[0m\u001b[0;34m.\u001b[0m\u001b[0mplt\u001b[0m\u001b[0;34m(\u001b[0m\u001b[0mtime\u001b[0m\u001b[0;34m,\u001b[0m\u001b[0mdomestic_growth\u001b[0m\u001b[0;34m)\u001b[0m\u001b[0;34m\u001b[0m\u001b[0m\n\u001b[0m",
      "\u001b[0;32m//anaconda/lib/python2.7/site-packages/pandas/core/generic.pyc\u001b[0m in \u001b[0;36m__getattr__\u001b[0;34m(self, name)\u001b[0m\n\u001b[1;32m   2358\u001b[0m                 \u001b[0;32mreturn\u001b[0m \u001b[0mself\u001b[0m\u001b[0;34m[\u001b[0m\u001b[0mname\u001b[0m\u001b[0;34m]\u001b[0m\u001b[0;34m\u001b[0m\u001b[0m\n\u001b[1;32m   2359\u001b[0m             raise AttributeError(\"'%s' object has no attribute '%s'\" %\n\u001b[0;32m-> 2360\u001b[0;31m                                  (type(self).__name__, name))\n\u001b[0m\u001b[1;32m   2361\u001b[0m \u001b[0;34m\u001b[0m\u001b[0m\n\u001b[1;32m   2362\u001b[0m     \u001b[0;32mdef\u001b[0m \u001b[0m__setattr__\u001b[0m\u001b[0;34m(\u001b[0m\u001b[0mself\u001b[0m\u001b[0;34m,\u001b[0m \u001b[0mname\u001b[0m\u001b[0;34m,\u001b[0m \u001b[0mvalue\u001b[0m\u001b[0;34m)\u001b[0m\u001b[0;34m:\u001b[0m\u001b[0;34m\u001b[0m\u001b[0m\n",
      "\u001b[0;31mAttributeError\u001b[0m: 'DataFrame' object has no attribute 'plt'"
     ]
    }
   ],
   "source": [
    "model_table.plt(time,domestic_growth)"
   ]
  },
  {
   "cell_type": "code",
   "execution_count": 114,
   "metadata": {
    "collapsed": false
   },
   "outputs": [
    {
     "data": {
      "text/plain": [
       "<matplotlib.text.Text at 0x118809c10>"
      ]
     },
     "execution_count": 114,
     "metadata": {},
     "output_type": "execute_result"
    },
    {
     "data": {
      "image/png": "[encoded data removed]",
      "text/plain": [
       "<matplotlib.figure.Figure at 0x1181e2290>"
      ]
     },
     "metadata": {},
     "output_type": "display_data"
    }
   ],
   "source": [
    "import matplotlib.pyplot as plt\n",
    "plt.plot(model_table[['year','domestic_gross']].groupby('year').mean())\n",
    "plt.ylabel(\"Average Domestic Gross\")\n",
    "plt.xlabel(\"Year\")\n",
    "plt.title(\"Average Domestic Gross by Year\")"
   ]
  },
  {
   "cell_type": "code",
   "execution_count": 109,
   "metadata": {
    "collapsed": false
   },
   "outputs": [
    {
     "ename": "TypeError",
     "evalue": "scatter() takes at least 2 arguments (1 given)",
     "output_type": "error",
     "traceback": [
      "\u001b[0;31m---------------------------------------------------------------------------\u001b[0m",
      "\u001b[0;31mTypeError\u001b[0m                                 Traceback (most recent call last)",
      "\u001b[0;32m<ipython-input-109-e243a335c4c8>\u001b[0m in \u001b[0;36m<module>\u001b[0;34m()\u001b[0m\n\u001b[0;32m----> 1\u001b[0;31m \u001b[0mplt\u001b[0m\u001b[0;34m.\u001b[0m\u001b[0mscatter\u001b[0m\u001b[0;34m(\u001b[0m\u001b[0mmodel_table\u001b[0m\u001b[0;34m[\u001b[0m\u001b[0;34m[\u001b[0m\u001b[0;34m'year'\u001b[0m\u001b[0;34m,\u001b[0m\u001b[0;34m'domestic_gross'\u001b[0m\u001b[0;34m]\u001b[0m\u001b[0;34m]\u001b[0m\u001b[0;34m.\u001b[0m\u001b[0mgroupby\u001b[0m\u001b[0;34m(\u001b[0m\u001b[0;34m'year'\u001b[0m\u001b[0;34m)\u001b[0m\u001b[0;34m.\u001b[0m\u001b[0mmean\u001b[0m\u001b[0;34m(\u001b[0m\u001b[0;34m)\u001b[0m\u001b[0;34m)\u001b[0m\u001b[0;34m\u001b[0m\u001b[0m\n\u001b[0m",
      "\u001b[0;31mTypeError\u001b[0m: scatter() takes at least 2 arguments (1 given)"
     ]
    }
   ],
   "source": [
    "plt.scatter(model_table[['year','domestic_gross']].groupby('year').mean())\n",
    "plt.ylabel(\"Average Domestic Gross\")\n",
    "plt.xlabel(\"Year\")"
   ]
  },
  {
   "cell_type": "code",
   "execution_count": 115,
   "metadata": {
    "collapsed": false
   },
   "outputs": [
    {
     "data": {
      "text/plain": [
       "<matplotlib.text.Text at 0x11851d9d0>"
      ]
     },
     "execution_count": 115,
     "metadata": {},
     "output_type": "execute_result"
    },
    {
     "data": {
      "image/png": "[encoded data removed]",
      "text/plain": [
       "<matplotlib.figure.Figure at 0x119829f90>"
      ]
     },
     "metadata": {},
     "output_type": "display_data"
    }
   ],
   "source": [
    "plt.scatter(model_table.year,model_table.domestic_gross)\n",
    "plt.ylabel(\"Domestic Gross\")\n",
    "plt.xlabel(\"Year\")\n",
    "plt.title(\"Scatter Plot of Domestic Gross by Year\")"
   ]
  }
 ],
 "metadata": {
  "kernelspec": {
   "display_name": "Python 2",
   "language": "python",
   "name": "python2"
  },
  "language_info": {
   "codemirror_mode": {
    "name": "ipython",
    "version": 2
   },
   "file_extension": ".py",
   "mimetype": "text/x-python",
   "name": "python",
   "nbconvert_exporter": "python",
   "pygments_lexer": "ipython2",
   "version": "2.7.11"
  }
 },
 "nbformat": 4,
 "nbformat_minor": 0
}
